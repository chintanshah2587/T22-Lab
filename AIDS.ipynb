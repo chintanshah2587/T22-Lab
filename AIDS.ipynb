{
  "nbformat": 4,
  "nbformat_minor": 0,
  "metadata": {
    "colab": {
      "name": "AIDS.ipynb",
      "provenance": [],
      "collapsed_sections": [],
      "authorship_tag": "ABX9TyPD98FeS8LBJN5QqzayseGW",
      "include_colab_link": true
    },
    "kernelspec": {
      "name": "python3",
      "display_name": "Python 3"
    },
    "language_info": {
      "name": "python"
    }
  },
  "cells": [
    {
      "cell_type": "markdown",
      "metadata": {
        "id": "view-in-github",
        "colab_type": "text"
      },
      "source": [
        "<a href=\"https://colab.research.google.com/github/chintanshah2587/T22-Lab/blob/main/AIDS.ipynb\" target=\"_parent\"><img src=\"https://colab.research.google.com/assets/colab-badge.svg\" alt=\"Open In Colab\"/></a>"
      ]
    },
    {
      "cell_type": "code",
      "execution_count": null,
      "metadata": {
        "id": "ovAwVGgN-PkY"
      },
      "outputs": [],
      "source": [
        ""
      ]
    },
    {
      "cell_type": "code",
      "source": [
        "from google.colab import drive\n",
        "drive.mount('/content/drive')"
      ],
      "metadata": {
        "colab": {
          "base_uri": "https://localhost:8080/"
        },
        "id": "Q5_ZK8aB-mjf",
        "outputId": "06d7e2c5-3b04-4e05-d812-322bfd83f99b"
      },
      "execution_count": null,
      "outputs": [
        {
          "output_type": "stream",
          "name": "stdout",
          "text": [
            "Mounted at /content/drive\n"
          ]
        }
      ]
    },
    {
      "cell_type": "code",
      "source": [
        "import pandas as pd\n",
        "df=pd.read_csv(\"/content/drive/MyDrive/Dataset/MyDataSet.csv\")\n",
        "print(df)"
      ],
      "metadata": {
        "colab": {
          "base_uri": "https://localhost:8080/"
        },
        "id": "Qbl2uhGG-qHQ",
        "outputId": "7363afb9-216a-4d2b-d8a4-407a33940463"
      },
      "execution_count": null,
      "outputs": [
        {
          "output_type": "stream",
          "name": "stdout",
          "text": [
            "            id      key  ...  dropoff_latitude passenger_count\n",
            "0     24238194  52:06.0  ...         40.723217             1.0\n",
            "1     27835199  04:56.0  ...         40.750325             1.0\n",
            "2     44984355  45:00.0  ...         40.772647             1.0\n",
            "3     25894730  22:21.0  ...         40.803349             3.0\n",
            "4     17610152  47:00.0  ...         40.761247             5.0\n",
            "...        ...      ...  ...               ...             ...\n",
            "5023  49621474  43:40.0  ...         40.725864             1.0\n",
            "5024   2551118  12:00.0  ...         40.732217             1.0\n",
            "5025   2003470  13:47.0  ...         40.731786             1.0\n",
            "5026  34334407  16:09.0  ...         40.718868             1.0\n",
            "5027  47247558  32:00.0  ...         40.775133             1.0\n",
            "\n",
            "[5028 rows x 9 columns]\n"
          ]
        }
      ]
    },
    {
      "cell_type": "code",
      "source": [
        "df.info()"
      ],
      "metadata": {
        "colab": {
          "base_uri": "https://localhost:8080/"
        },
        "id": "EYiMDzdt_CTO",
        "outputId": "6385d67b-c633-4745-fcdd-f012b703e3a2"
      },
      "execution_count": null,
      "outputs": [
        {
          "output_type": "stream",
          "name": "stdout",
          "text": [
            "<class 'pandas.core.frame.DataFrame'>\n",
            "RangeIndex: 5028 entries, 0 to 5027\n",
            "Data columns (total 9 columns):\n",
            " #   Column             Non-Null Count  Dtype  \n",
            "---  ------             --------------  -----  \n",
            " 0   id                 5028 non-null   int64  \n",
            " 1   key                5027 non-null   object \n",
            " 2   fare_amount        5027 non-null   float64\n",
            " 3   pickup_datetime    5021 non-null   object \n",
            " 4   pickup_longitude   5028 non-null   float64\n",
            " 5   pickup_latitude    5028 non-null   float64\n",
            " 6   dropoff_longitude  5026 non-null   float64\n",
            " 7   dropoff_latitude   5028 non-null   float64\n",
            " 8   passenger_count    5026 non-null   float64\n",
            "dtypes: float64(6), int64(1), object(2)\n",
            "memory usage: 353.7+ KB\n"
          ]
        }
      ]
    },
    {
      "cell_type": "code",
      "source": [
        "df.isna().sum()"
      ],
      "metadata": {
        "colab": {
          "base_uri": "https://localhost:8080/"
        },
        "id": "gifz5sll_coK",
        "outputId": "578c93fd-4920-4493-f5d2-c10fb7f40cd5"
      },
      "execution_count": null,
      "outputs": [
        {
          "output_type": "execute_result",
          "data": {
            "text/plain": [
              "id                   0\n",
              "key                  1\n",
              "fare_amount          1\n",
              "pickup_datetime      7\n",
              "pickup_longitude     0\n",
              "pickup_latitude      0\n",
              "dropoff_longitude    2\n",
              "dropoff_latitude     0\n",
              "passenger_count      2\n",
              "dtype: int64"
            ]
          },
          "metadata": {},
          "execution_count": 7
        }
      ]
    },
    {
      "cell_type": "code",
      "source": [
        "df.columns[df.isna().any()].tolist()"
      ],
      "metadata": {
        "colab": {
          "base_uri": "https://localhost:8080/"
        },
        "id": "Pm9QsaL4ANV3",
        "outputId": "ea8614b8-e70c-4f27-fa67-474945ef04e3"
      },
      "execution_count": null,
      "outputs": [
        {
          "output_type": "execute_result",
          "data": {
            "text/plain": [
              "['key',\n",
              " 'fare_amount',\n",
              " 'pickup_datetime',\n",
              " 'dropoff_longitude',\n",
              " 'passenger_count']"
            ]
          },
          "metadata": {},
          "execution_count": 8
        }
      ]
    },
    {
      "cell_type": "code",
      "source": [
        "df[df['pickup_datetime'].isna()]"
      ],
      "metadata": {
        "colab": {
          "base_uri": "https://localhost:8080/",
          "height": 333
        },
        "id": "IUpI4tNwBPnv",
        "outputId": "091b859d-5ef4-454c-bc49-a279671ac209"
      },
      "execution_count": null,
      "outputs": [
        {
          "output_type": "execute_result",
          "data": {
            "text/html": [
              "\n",
              "  <div id=\"df-c820d313-0e63-43cb-b349-6a3a3e2b155e\">\n",
              "    <div class=\"colab-df-container\">\n",
              "      <div>\n",
              "<style scoped>\n",
              "    .dataframe tbody tr th:only-of-type {\n",
              "        vertical-align: middle;\n",
              "    }\n",
              "\n",
              "    .dataframe tbody tr th {\n",
              "        vertical-align: top;\n",
              "    }\n",
              "\n",
              "    .dataframe thead th {\n",
              "        text-align: right;\n",
              "    }\n",
              "</style>\n",
              "<table border=\"1\" class=\"dataframe\">\n",
              "  <thead>\n",
              "    <tr style=\"text-align: right;\">\n",
              "      <th></th>\n",
              "      <th>id</th>\n",
              "      <th>key</th>\n",
              "      <th>fare_amount</th>\n",
              "      <th>pickup_datetime</th>\n",
              "      <th>pickup_longitude</th>\n",
              "      <th>pickup_latitude</th>\n",
              "      <th>dropoff_longitude</th>\n",
              "      <th>dropoff_latitude</th>\n",
              "      <th>passenger_count</th>\n",
              "    </tr>\n",
              "  </thead>\n",
              "  <tbody>\n",
              "    <tr>\n",
              "      <th>676</th>\n",
              "      <td>5170173</td>\n",
              "      <td>26:17.0</td>\n",
              "      <td>9.3</td>\n",
              "      <td>NaN</td>\n",
              "      <td>-74.009723</td>\n",
              "      <td>40.706352</td>\n",
              "      <td>-73.985237</td>\n",
              "      <td>40.721999</td>\n",
              "      <td>1.0</td>\n",
              "    </tr>\n",
              "    <tr>\n",
              "      <th>995</th>\n",
              "      <td>13439193</td>\n",
              "      <td>39:00.0</td>\n",
              "      <td>5.7</td>\n",
              "      <td>NaN</td>\n",
              "      <td>-73.969720</td>\n",
              "      <td>40.757577</td>\n",
              "      <td>-73.953782</td>\n",
              "      <td>40.766960</td>\n",
              "      <td>1.0</td>\n",
              "    </tr>\n",
              "    <tr>\n",
              "      <th>4827</th>\n",
              "      <td>25842598</td>\n",
              "      <td>48:49.0</td>\n",
              "      <td>NaN</td>\n",
              "      <td>NaN</td>\n",
              "      <td>-73.947305</td>\n",
              "      <td>40.745266</td>\n",
              "      <td>NaN</td>\n",
              "      <td>40.745266</td>\n",
              "      <td>1.0</td>\n",
              "    </tr>\n",
              "    <tr>\n",
              "      <th>4853</th>\n",
              "      <td>6692346</td>\n",
              "      <td>21:25.0</td>\n",
              "      <td>14.1</td>\n",
              "      <td>NaN</td>\n",
              "      <td>-73.991629</td>\n",
              "      <td>40.729791</td>\n",
              "      <td>-73.953929</td>\n",
              "      <td>0.000000</td>\n",
              "      <td>2.0</td>\n",
              "    </tr>\n",
              "    <tr>\n",
              "      <th>4909</th>\n",
              "      <td>40397713</td>\n",
              "      <td>00:46.0</td>\n",
              "      <td>7.5</td>\n",
              "      <td>NaN</td>\n",
              "      <td>-73.998093</td>\n",
              "      <td>40.733837</td>\n",
              "      <td>-73.989716</td>\n",
              "      <td>40.735802</td>\n",
              "      <td>1.0</td>\n",
              "    </tr>\n",
              "    <tr>\n",
              "      <th>4996</th>\n",
              "      <td>45893647</td>\n",
              "      <td>38:00.0</td>\n",
              "      <td>5.3</td>\n",
              "      <td>NaN</td>\n",
              "      <td>-73.958418</td>\n",
              "      <td>40.774910</td>\n",
              "      <td>-73.954258</td>\n",
              "      <td>40.772812</td>\n",
              "      <td>1.0</td>\n",
              "    </tr>\n",
              "    <tr>\n",
              "      <th>4997</th>\n",
              "      <td>1384189</td>\n",
              "      <td>20:00.0</td>\n",
              "      <td>9.7</td>\n",
              "      <td>NaN</td>\n",
              "      <td>-73.991552</td>\n",
              "      <td>40.762125</td>\n",
              "      <td>-73.994402</td>\n",
              "      <td>40.741020</td>\n",
              "      <td>1.0</td>\n",
              "    </tr>\n",
              "  </tbody>\n",
              "</table>\n",
              "</div>\n",
              "      <button class=\"colab-df-convert\" onclick=\"convertToInteractive('df-c820d313-0e63-43cb-b349-6a3a3e2b155e')\"\n",
              "              title=\"Convert this dataframe to an interactive table.\"\n",
              "              style=\"display:none;\">\n",
              "        \n",
              "  <svg xmlns=\"http://www.w3.org/2000/svg\" height=\"24px\"viewBox=\"0 0 24 24\"\n",
              "       width=\"24px\">\n",
              "    <path d=\"M0 0h24v24H0V0z\" fill=\"none\"/>\n",
              "    <path d=\"M18.56 5.44l.94 2.06.94-2.06 2.06-.94-2.06-.94-.94-2.06-.94 2.06-2.06.94zm-11 1L8.5 8.5l.94-2.06 2.06-.94-2.06-.94L8.5 2.5l-.94 2.06-2.06.94zm10 10l.94 2.06.94-2.06 2.06-.94-2.06-.94-.94-2.06-.94 2.06-2.06.94z\"/><path d=\"M17.41 7.96l-1.37-1.37c-.4-.4-.92-.59-1.43-.59-.52 0-1.04.2-1.43.59L10.3 9.45l-7.72 7.72c-.78.78-.78 2.05 0 2.83L4 21.41c.39.39.9.59 1.41.59.51 0 1.02-.2 1.41-.59l7.78-7.78 2.81-2.81c.8-.78.8-2.07 0-2.86zM5.41 20L4 18.59l7.72-7.72 1.47 1.35L5.41 20z\"/>\n",
              "  </svg>\n",
              "      </button>\n",
              "      \n",
              "  <style>\n",
              "    .colab-df-container {\n",
              "      display:flex;\n",
              "      flex-wrap:wrap;\n",
              "      gap: 12px;\n",
              "    }\n",
              "\n",
              "    .colab-df-convert {\n",
              "      background-color: #E8F0FE;\n",
              "      border: none;\n",
              "      border-radius: 50%;\n",
              "      cursor: pointer;\n",
              "      display: none;\n",
              "      fill: #1967D2;\n",
              "      height: 32px;\n",
              "      padding: 0 0 0 0;\n",
              "      width: 32px;\n",
              "    }\n",
              "\n",
              "    .colab-df-convert:hover {\n",
              "      background-color: #E2EBFA;\n",
              "      box-shadow: 0px 1px 2px rgba(60, 64, 67, 0.3), 0px 1px 3px 1px rgba(60, 64, 67, 0.15);\n",
              "      fill: #174EA6;\n",
              "    }\n",
              "\n",
              "    [theme=dark] .colab-df-convert {\n",
              "      background-color: #3B4455;\n",
              "      fill: #D2E3FC;\n",
              "    }\n",
              "\n",
              "    [theme=dark] .colab-df-convert:hover {\n",
              "      background-color: #434B5C;\n",
              "      box-shadow: 0px 1px 3px 1px rgba(0, 0, 0, 0.15);\n",
              "      filter: drop-shadow(0px 1px 2px rgba(0, 0, 0, 0.3));\n",
              "      fill: #FFFFFF;\n",
              "    }\n",
              "  </style>\n",
              "\n",
              "      <script>\n",
              "        const buttonEl =\n",
              "          document.querySelector('#df-c820d313-0e63-43cb-b349-6a3a3e2b155e button.colab-df-convert');\n",
              "        buttonEl.style.display =\n",
              "          google.colab.kernel.accessAllowed ? 'block' : 'none';\n",
              "\n",
              "        async function convertToInteractive(key) {\n",
              "          const element = document.querySelector('#df-c820d313-0e63-43cb-b349-6a3a3e2b155e');\n",
              "          const dataTable =\n",
              "            await google.colab.kernel.invokeFunction('convertToInteractive',\n",
              "                                                     [key], {});\n",
              "          if (!dataTable) return;\n",
              "\n",
              "          const docLinkHtml = 'Like what you see? Visit the ' +\n",
              "            '<a target=\"_blank\" href=https://colab.research.google.com/notebooks/data_table.ipynb>data table notebook</a>'\n",
              "            + ' to learn more about interactive tables.';\n",
              "          element.innerHTML = '';\n",
              "          dataTable['output_type'] = 'display_data';\n",
              "          await google.colab.output.renderOutput(dataTable, element);\n",
              "          const docLink = document.createElement('div');\n",
              "          docLink.innerHTML = docLinkHtml;\n",
              "          element.appendChild(docLink);\n",
              "        }\n",
              "      </script>\n",
              "    </div>\n",
              "  </div>\n",
              "  "
            ],
            "text/plain": [
              "            id      key  ...  dropoff_latitude passenger_count\n",
              "676    5170173  26:17.0  ...         40.721999             1.0\n",
              "995   13439193  39:00.0  ...         40.766960             1.0\n",
              "4827  25842598  48:49.0  ...         40.745266             1.0\n",
              "4853   6692346  21:25.0  ...          0.000000             2.0\n",
              "4909  40397713  00:46.0  ...         40.735802             1.0\n",
              "4996  45893647  38:00.0  ...         40.772812             1.0\n",
              "4997   1384189  20:00.0  ...         40.741020             1.0\n",
              "\n",
              "[7 rows x 9 columns]"
            ]
          },
          "metadata": {},
          "execution_count": 13
        }
      ]
    },
    {
      "cell_type": "code",
      "source": [
        "df.describe()"
      ],
      "metadata": {
        "colab": {
          "base_uri": "https://localhost:8080/",
          "height": 300
        },
        "id": "zHXz2vKGB0F_",
        "outputId": "896dd681-8e00-4839-9241-6b650608f01e"
      },
      "execution_count": null,
      "outputs": [
        {
          "output_type": "execute_result",
          "data": {
            "text/html": [
              "\n",
              "  <div id=\"df-8fd198c0-9ab3-4b66-b42a-6541099648c5\">\n",
              "    <div class=\"colab-df-container\">\n",
              "      <div>\n",
              "<style scoped>\n",
              "    .dataframe tbody tr th:only-of-type {\n",
              "        vertical-align: middle;\n",
              "    }\n",
              "\n",
              "    .dataframe tbody tr th {\n",
              "        vertical-align: top;\n",
              "    }\n",
              "\n",
              "    .dataframe thead th {\n",
              "        text-align: right;\n",
              "    }\n",
              "</style>\n",
              "<table border=\"1\" class=\"dataframe\">\n",
              "  <thead>\n",
              "    <tr style=\"text-align: right;\">\n",
              "      <th></th>\n",
              "      <th>id</th>\n",
              "      <th>fare_amount</th>\n",
              "      <th>pickup_longitude</th>\n",
              "      <th>pickup_latitude</th>\n",
              "      <th>dropoff_longitude</th>\n",
              "      <th>dropoff_latitude</th>\n",
              "      <th>passenger_count</th>\n",
              "    </tr>\n",
              "  </thead>\n",
              "  <tbody>\n",
              "    <tr>\n",
              "      <th>count</th>\n",
              "      <td>5.028000e+03</td>\n",
              "      <td>5027.000000</td>\n",
              "      <td>5028.000000</td>\n",
              "      <td>5028.000000</td>\n",
              "      <td>5026.000000</td>\n",
              "      <td>5028.000000</td>\n",
              "      <td>5026.000000</td>\n",
              "    </tr>\n",
              "    <tr>\n",
              "      <th>mean</th>\n",
              "      <td>2.762745e+07</td>\n",
              "      <td>11.351054</td>\n",
              "      <td>-72.752912</td>\n",
              "      <td>39.994592</td>\n",
              "      <td>-72.675767</td>\n",
              "      <td>39.994757</td>\n",
              "      <td>1.667728</td>\n",
              "    </tr>\n",
              "    <tr>\n",
              "      <th>std</th>\n",
              "      <td>1.586564e+07</td>\n",
              "      <td>10.743211</td>\n",
              "      <td>13.890130</td>\n",
              "      <td>6.081988</td>\n",
              "      <td>9.904003</td>\n",
              "      <td>6.082006</td>\n",
              "      <td>1.290232</td>\n",
              "    </tr>\n",
              "    <tr>\n",
              "      <th>min</th>\n",
              "      <td>4.800000e+02</td>\n",
              "      <td>0.000000</td>\n",
              "      <td>-748.016667</td>\n",
              "      <td>-73.997740</td>\n",
              "      <td>-75.350437</td>\n",
              "      <td>-73.992137</td>\n",
              "      <td>0.000000</td>\n",
              "    </tr>\n",
              "    <tr>\n",
              "      <th>25%</th>\n",
              "      <td>1.416866e+07</td>\n",
              "      <td>6.000000</td>\n",
              "      <td>-73.992000</td>\n",
              "      <td>40.735053</td>\n",
              "      <td>-73.991389</td>\n",
              "      <td>40.733241</td>\n",
              "      <td>1.000000</td>\n",
              "    </tr>\n",
              "    <tr>\n",
              "      <th>50%</th>\n",
              "      <td>2.750119e+07</td>\n",
              "      <td>8.500000</td>\n",
              "      <td>-73.981515</td>\n",
              "      <td>40.752510</td>\n",
              "      <td>-73.979911</td>\n",
              "      <td>40.752692</td>\n",
              "      <td>1.000000</td>\n",
              "    </tr>\n",
              "    <tr>\n",
              "      <th>75%</th>\n",
              "      <td>4.108796e+07</td>\n",
              "      <td>12.500000</td>\n",
              "      <td>-73.967479</td>\n",
              "      <td>40.766517</td>\n",
              "      <td>-73.963141</td>\n",
              "      <td>40.768369</td>\n",
              "      <td>2.000000</td>\n",
              "    </tr>\n",
              "    <tr>\n",
              "      <th>max</th>\n",
              "      <td>5.539226e+07</td>\n",
              "      <td>350.000000</td>\n",
              "      <td>40.770667</td>\n",
              "      <td>41.366138</td>\n",
              "      <td>40.761672</td>\n",
              "      <td>41.366138</td>\n",
              "      <td>6.000000</td>\n",
              "    </tr>\n",
              "  </tbody>\n",
              "</table>\n",
              "</div>\n",
              "      <button class=\"colab-df-convert\" onclick=\"convertToInteractive('df-8fd198c0-9ab3-4b66-b42a-6541099648c5')\"\n",
              "              title=\"Convert this dataframe to an interactive table.\"\n",
              "              style=\"display:none;\">\n",
              "        \n",
              "  <svg xmlns=\"http://www.w3.org/2000/svg\" height=\"24px\"viewBox=\"0 0 24 24\"\n",
              "       width=\"24px\">\n",
              "    <path d=\"M0 0h24v24H0V0z\" fill=\"none\"/>\n",
              "    <path d=\"M18.56 5.44l.94 2.06.94-2.06 2.06-.94-2.06-.94-.94-2.06-.94 2.06-2.06.94zm-11 1L8.5 8.5l.94-2.06 2.06-.94-2.06-.94L8.5 2.5l-.94 2.06-2.06.94zm10 10l.94 2.06.94-2.06 2.06-.94-2.06-.94-.94-2.06-.94 2.06-2.06.94z\"/><path d=\"M17.41 7.96l-1.37-1.37c-.4-.4-.92-.59-1.43-.59-.52 0-1.04.2-1.43.59L10.3 9.45l-7.72 7.72c-.78.78-.78 2.05 0 2.83L4 21.41c.39.39.9.59 1.41.59.51 0 1.02-.2 1.41-.59l7.78-7.78 2.81-2.81c.8-.78.8-2.07 0-2.86zM5.41 20L4 18.59l7.72-7.72 1.47 1.35L5.41 20z\"/>\n",
              "  </svg>\n",
              "      </button>\n",
              "      \n",
              "  <style>\n",
              "    .colab-df-container {\n",
              "      display:flex;\n",
              "      flex-wrap:wrap;\n",
              "      gap: 12px;\n",
              "    }\n",
              "\n",
              "    .colab-df-convert {\n",
              "      background-color: #E8F0FE;\n",
              "      border: none;\n",
              "      border-radius: 50%;\n",
              "      cursor: pointer;\n",
              "      display: none;\n",
              "      fill: #1967D2;\n",
              "      height: 32px;\n",
              "      padding: 0 0 0 0;\n",
              "      width: 32px;\n",
              "    }\n",
              "\n",
              "    .colab-df-convert:hover {\n",
              "      background-color: #E2EBFA;\n",
              "      box-shadow: 0px 1px 2px rgba(60, 64, 67, 0.3), 0px 1px 3px 1px rgba(60, 64, 67, 0.15);\n",
              "      fill: #174EA6;\n",
              "    }\n",
              "\n",
              "    [theme=dark] .colab-df-convert {\n",
              "      background-color: #3B4455;\n",
              "      fill: #D2E3FC;\n",
              "    }\n",
              "\n",
              "    [theme=dark] .colab-df-convert:hover {\n",
              "      background-color: #434B5C;\n",
              "      box-shadow: 0px 1px 3px 1px rgba(0, 0, 0, 0.15);\n",
              "      filter: drop-shadow(0px 1px 2px rgba(0, 0, 0, 0.3));\n",
              "      fill: #FFFFFF;\n",
              "    }\n",
              "  </style>\n",
              "\n",
              "      <script>\n",
              "        const buttonEl =\n",
              "          document.querySelector('#df-8fd198c0-9ab3-4b66-b42a-6541099648c5 button.colab-df-convert');\n",
              "        buttonEl.style.display =\n",
              "          google.colab.kernel.accessAllowed ? 'block' : 'none';\n",
              "\n",
              "        async function convertToInteractive(key) {\n",
              "          const element = document.querySelector('#df-8fd198c0-9ab3-4b66-b42a-6541099648c5');\n",
              "          const dataTable =\n",
              "            await google.colab.kernel.invokeFunction('convertToInteractive',\n",
              "                                                     [key], {});\n",
              "          if (!dataTable) return;\n",
              "\n",
              "          const docLinkHtml = 'Like what you see? Visit the ' +\n",
              "            '<a target=\"_blank\" href=https://colab.research.google.com/notebooks/data_table.ipynb>data table notebook</a>'\n",
              "            + ' to learn more about interactive tables.';\n",
              "          element.innerHTML = '';\n",
              "          dataTable['output_type'] = 'display_data';\n",
              "          await google.colab.output.renderOutput(dataTable, element);\n",
              "          const docLink = document.createElement('div');\n",
              "          docLink.innerHTML = docLinkHtml;\n",
              "          element.appendChild(docLink);\n",
              "        }\n",
              "      </script>\n",
              "    </div>\n",
              "  </div>\n",
              "  "
            ],
            "text/plain": [
              "                 id  fare_amount  ...  dropoff_latitude  passenger_count\n",
              "count  5.028000e+03  5027.000000  ...       5028.000000      5026.000000\n",
              "mean   2.762745e+07    11.351054  ...         39.994757         1.667728\n",
              "std    1.586564e+07    10.743211  ...          6.082006         1.290232\n",
              "min    4.800000e+02     0.000000  ...        -73.992137         0.000000\n",
              "25%    1.416866e+07     6.000000  ...         40.733241         1.000000\n",
              "50%    2.750119e+07     8.500000  ...         40.752692         1.000000\n",
              "75%    4.108796e+07    12.500000  ...         40.768369         2.000000\n",
              "max    5.539226e+07   350.000000  ...         41.366138         6.000000\n",
              "\n",
              "[8 rows x 7 columns]"
            ]
          },
          "metadata": {},
          "execution_count": 14
        }
      ]
    },
    {
      "cell_type": "code",
      "source": [
        "df.dropna(inplace=True)"
      ],
      "metadata": {
        "id": "DVXgdcsrCPd2"
      },
      "execution_count": null,
      "outputs": []
    },
    {
      "cell_type": "code",
      "source": [
        "df.isna().sum()"
      ],
      "metadata": {
        "colab": {
          "base_uri": "https://localhost:8080/"
        },
        "id": "sKmnQoFsDlIM",
        "outputId": "3306a8f9-84c0-4122-afea-b50ccae6d1bf"
      },
      "execution_count": null,
      "outputs": [
        {
          "output_type": "execute_result",
          "data": {
            "text/plain": [
              "id                   0\n",
              "key                  0\n",
              "fare_amount          0\n",
              "pickup_datetime      0\n",
              "pickup_longitude     0\n",
              "pickup_latitude      0\n",
              "dropoff_longitude    0\n",
              "dropoff_latitude     0\n",
              "passenger_count      0\n",
              "dtype: int64"
            ]
          },
          "metadata": {},
          "execution_count": 18
        }
      ]
    },
    {
      "cell_type": "code",
      "source": [
        "df"
      ],
      "metadata": {
        "colab": {
          "base_uri": "https://localhost:8080/",
          "height": 626
        },
        "id": "yEMjzuDLDo44",
        "outputId": "e30bc8ce-70e4-4579-86ff-998ffb9e8c8f"
      },
      "execution_count": null,
      "outputs": [
        {
          "output_type": "execute_result",
          "data": {
            "text/html": [
              "\n",
              "  <div id=\"df-de4de092-3bd8-45bb-a6af-6e640bff8181\">\n",
              "    <div class=\"colab-df-container\">\n",
              "      <div>\n",
              "<style scoped>\n",
              "    .dataframe tbody tr th:only-of-type {\n",
              "        vertical-align: middle;\n",
              "    }\n",
              "\n",
              "    .dataframe tbody tr th {\n",
              "        vertical-align: top;\n",
              "    }\n",
              "\n",
              "    .dataframe thead th {\n",
              "        text-align: right;\n",
              "    }\n",
              "</style>\n",
              "<table border=\"1\" class=\"dataframe\">\n",
              "  <thead>\n",
              "    <tr style=\"text-align: right;\">\n",
              "      <th></th>\n",
              "      <th>id</th>\n",
              "      <th>key</th>\n",
              "      <th>fare_amount</th>\n",
              "      <th>pickup_datetime</th>\n",
              "      <th>pickup_longitude</th>\n",
              "      <th>pickup_latitude</th>\n",
              "      <th>dropoff_longitude</th>\n",
              "      <th>dropoff_latitude</th>\n",
              "      <th>passenger_count</th>\n",
              "    </tr>\n",
              "  </thead>\n",
              "  <tbody>\n",
              "    <tr>\n",
              "      <th>0</th>\n",
              "      <td>24238194</td>\n",
              "      <td>52:06.0</td>\n",
              "      <td>7.5</td>\n",
              "      <td>2015-05-07 19:52:06 UTC</td>\n",
              "      <td>-73.999817</td>\n",
              "      <td>40.738354</td>\n",
              "      <td>-73.999512</td>\n",
              "      <td>40.723217</td>\n",
              "      <td>1.0</td>\n",
              "    </tr>\n",
              "    <tr>\n",
              "      <th>1</th>\n",
              "      <td>27835199</td>\n",
              "      <td>04:56.0</td>\n",
              "      <td>7.7</td>\n",
              "      <td>2009-07-17 20:04:56 UTC</td>\n",
              "      <td>-73.994355</td>\n",
              "      <td>40.728225</td>\n",
              "      <td>-73.994710</td>\n",
              "      <td>40.750325</td>\n",
              "      <td>1.0</td>\n",
              "    </tr>\n",
              "    <tr>\n",
              "      <th>2</th>\n",
              "      <td>44984355</td>\n",
              "      <td>45:00.0</td>\n",
              "      <td>12.9</td>\n",
              "      <td>2009-08-24 21:45:00 UTC</td>\n",
              "      <td>-74.005043</td>\n",
              "      <td>40.740770</td>\n",
              "      <td>-73.962565</td>\n",
              "      <td>40.772647</td>\n",
              "      <td>1.0</td>\n",
              "    </tr>\n",
              "    <tr>\n",
              "      <th>3</th>\n",
              "      <td>25894730</td>\n",
              "      <td>22:21.0</td>\n",
              "      <td>5.3</td>\n",
              "      <td>2009-06-26 08:22:21 UTC</td>\n",
              "      <td>-73.976124</td>\n",
              "      <td>40.790844</td>\n",
              "      <td>-73.965316</td>\n",
              "      <td>40.803349</td>\n",
              "      <td>3.0</td>\n",
              "    </tr>\n",
              "    <tr>\n",
              "      <th>4</th>\n",
              "      <td>17610152</td>\n",
              "      <td>47:00.0</td>\n",
              "      <td>16.0</td>\n",
              "      <td>28-08-2014</td>\n",
              "      <td>-73.925023</td>\n",
              "      <td>40.744085</td>\n",
              "      <td>-73.973082</td>\n",
              "      <td>40.761247</td>\n",
              "      <td>5.0</td>\n",
              "    </tr>\n",
              "    <tr>\n",
              "      <th>...</th>\n",
              "      <td>...</td>\n",
              "      <td>...</td>\n",
              "      <td>...</td>\n",
              "      <td>...</td>\n",
              "      <td>...</td>\n",
              "      <td>...</td>\n",
              "      <td>...</td>\n",
              "      <td>...</td>\n",
              "      <td>...</td>\n",
              "    </tr>\n",
              "    <tr>\n",
              "      <th>5023</th>\n",
              "      <td>49621474</td>\n",
              "      <td>43:40.0</td>\n",
              "      <td>7.5</td>\n",
              "      <td>2015-01-31 17:43:40 UTC</td>\n",
              "      <td>-73.994904</td>\n",
              "      <td>40.740021</td>\n",
              "      <td>-73.997673</td>\n",
              "      <td>40.725864</td>\n",
              "      <td>1.0</td>\n",
              "    </tr>\n",
              "    <tr>\n",
              "      <th>5024</th>\n",
              "      <td>2551118</td>\n",
              "      <td>12:00.0</td>\n",
              "      <td>3.5</td>\n",
              "      <td>2013-01-26 15:12:00 UTC</td>\n",
              "      <td>-73.992997</td>\n",
              "      <td>40.727910</td>\n",
              "      <td>-73.994160</td>\n",
              "      <td>40.732217</td>\n",
              "      <td>1.0</td>\n",
              "    </tr>\n",
              "    <tr>\n",
              "      <th>5025</th>\n",
              "      <td>2003470</td>\n",
              "      <td>13:47.0</td>\n",
              "      <td>9.0</td>\n",
              "      <td>2013-02-23 00:13:47 UTC</td>\n",
              "      <td>-73.982334</td>\n",
              "      <td>40.727795</td>\n",
              "      <td>-74.006374</td>\n",
              "      <td>40.731786</td>\n",
              "      <td>1.0</td>\n",
              "    </tr>\n",
              "    <tr>\n",
              "      <th>5026</th>\n",
              "      <td>34334407</td>\n",
              "      <td>16:09.0</td>\n",
              "      <td>33.5</td>\n",
              "      <td>2015-05-16 20:16:09 UTC</td>\n",
              "      <td>-73.970421</td>\n",
              "      <td>40.799053</td>\n",
              "      <td>-73.994682</td>\n",
              "      <td>40.718868</td>\n",
              "      <td>1.0</td>\n",
              "    </tr>\n",
              "    <tr>\n",
              "      <th>5027</th>\n",
              "      <td>47247558</td>\n",
              "      <td>32:00.0</td>\n",
              "      <td>0.0</td>\n",
              "      <td>20-07-2009</td>\n",
              "      <td>-73.975438</td>\n",
              "      <td>40.780233</td>\n",
              "      <td>-73.947638</td>\n",
              "      <td>40.775133</td>\n",
              "      <td>1.0</td>\n",
              "    </tr>\n",
              "  </tbody>\n",
              "</table>\n",
              "<p>5017 rows × 9 columns</p>\n",
              "</div>\n",
              "      <button class=\"colab-df-convert\" onclick=\"convertToInteractive('df-de4de092-3bd8-45bb-a6af-6e640bff8181')\"\n",
              "              title=\"Convert this dataframe to an interactive table.\"\n",
              "              style=\"display:none;\">\n",
              "        \n",
              "  <svg xmlns=\"http://www.w3.org/2000/svg\" height=\"24px\"viewBox=\"0 0 24 24\"\n",
              "       width=\"24px\">\n",
              "    <path d=\"M0 0h24v24H0V0z\" fill=\"none\"/>\n",
              "    <path d=\"M18.56 5.44l.94 2.06.94-2.06 2.06-.94-2.06-.94-.94-2.06-.94 2.06-2.06.94zm-11 1L8.5 8.5l.94-2.06 2.06-.94-2.06-.94L8.5 2.5l-.94 2.06-2.06.94zm10 10l.94 2.06.94-2.06 2.06-.94-2.06-.94-.94-2.06-.94 2.06-2.06.94z\"/><path d=\"M17.41 7.96l-1.37-1.37c-.4-.4-.92-.59-1.43-.59-.52 0-1.04.2-1.43.59L10.3 9.45l-7.72 7.72c-.78.78-.78 2.05 0 2.83L4 21.41c.39.39.9.59 1.41.59.51 0 1.02-.2 1.41-.59l7.78-7.78 2.81-2.81c.8-.78.8-2.07 0-2.86zM5.41 20L4 18.59l7.72-7.72 1.47 1.35L5.41 20z\"/>\n",
              "  </svg>\n",
              "      </button>\n",
              "      \n",
              "  <style>\n",
              "    .colab-df-container {\n",
              "      display:flex;\n",
              "      flex-wrap:wrap;\n",
              "      gap: 12px;\n",
              "    }\n",
              "\n",
              "    .colab-df-convert {\n",
              "      background-color: #E8F0FE;\n",
              "      border: none;\n",
              "      border-radius: 50%;\n",
              "      cursor: pointer;\n",
              "      display: none;\n",
              "      fill: #1967D2;\n",
              "      height: 32px;\n",
              "      padding: 0 0 0 0;\n",
              "      width: 32px;\n",
              "    }\n",
              "\n",
              "    .colab-df-convert:hover {\n",
              "      background-color: #E2EBFA;\n",
              "      box-shadow: 0px 1px 2px rgba(60, 64, 67, 0.3), 0px 1px 3px 1px rgba(60, 64, 67, 0.15);\n",
              "      fill: #174EA6;\n",
              "    }\n",
              "\n",
              "    [theme=dark] .colab-df-convert {\n",
              "      background-color: #3B4455;\n",
              "      fill: #D2E3FC;\n",
              "    }\n",
              "\n",
              "    [theme=dark] .colab-df-convert:hover {\n",
              "      background-color: #434B5C;\n",
              "      box-shadow: 0px 1px 3px 1px rgba(0, 0, 0, 0.15);\n",
              "      filter: drop-shadow(0px 1px 2px rgba(0, 0, 0, 0.3));\n",
              "      fill: #FFFFFF;\n",
              "    }\n",
              "  </style>\n",
              "\n",
              "      <script>\n",
              "        const buttonEl =\n",
              "          document.querySelector('#df-de4de092-3bd8-45bb-a6af-6e640bff8181 button.colab-df-convert');\n",
              "        buttonEl.style.display =\n",
              "          google.colab.kernel.accessAllowed ? 'block' : 'none';\n",
              "\n",
              "        async function convertToInteractive(key) {\n",
              "          const element = document.querySelector('#df-de4de092-3bd8-45bb-a6af-6e640bff8181');\n",
              "          const dataTable =\n",
              "            await google.colab.kernel.invokeFunction('convertToInteractive',\n",
              "                                                     [key], {});\n",
              "          if (!dataTable) return;\n",
              "\n",
              "          const docLinkHtml = 'Like what you see? Visit the ' +\n",
              "            '<a target=\"_blank\" href=https://colab.research.google.com/notebooks/data_table.ipynb>data table notebook</a>'\n",
              "            + ' to learn more about interactive tables.';\n",
              "          element.innerHTML = '';\n",
              "          dataTable['output_type'] = 'display_data';\n",
              "          await google.colab.output.renderOutput(dataTable, element);\n",
              "          const docLink = document.createElement('div');\n",
              "          docLink.innerHTML = docLinkHtml;\n",
              "          element.appendChild(docLink);\n",
              "        }\n",
              "      </script>\n",
              "    </div>\n",
              "  </div>\n",
              "  "
            ],
            "text/plain": [
              "            id      key  ...  dropoff_latitude passenger_count\n",
              "0     24238194  52:06.0  ...         40.723217             1.0\n",
              "1     27835199  04:56.0  ...         40.750325             1.0\n",
              "2     44984355  45:00.0  ...         40.772647             1.0\n",
              "3     25894730  22:21.0  ...         40.803349             3.0\n",
              "4     17610152  47:00.0  ...         40.761247             5.0\n",
              "...        ...      ...  ...               ...             ...\n",
              "5023  49621474  43:40.0  ...         40.725864             1.0\n",
              "5024   2551118  12:00.0  ...         40.732217             1.0\n",
              "5025   2003470  13:47.0  ...         40.731786             1.0\n",
              "5026  34334407  16:09.0  ...         40.718868             1.0\n",
              "5027  47247558  32:00.0  ...         40.775133             1.0\n",
              "\n",
              "[5017 rows x 9 columns]"
            ]
          },
          "metadata": {},
          "execution_count": 19
        }
      ]
    },
    {
      "cell_type": "code",
      "source": [
        "df.describe()"
      ],
      "metadata": {
        "colab": {
          "base_uri": "https://localhost:8080/",
          "height": 300
        },
        "id": "vxjWa7YdELhA",
        "outputId": "c10a71a7-98cb-4e21-c6d1-3070cfe9cf3d"
      },
      "execution_count": null,
      "outputs": [
        {
          "output_type": "execute_result",
          "data": {
            "text/html": [
              "\n",
              "  <div id=\"df-e50933ed-594c-4011-bb1f-6737d809e6e8\">\n",
              "    <div class=\"colab-df-container\">\n",
              "      <div>\n",
              "<style scoped>\n",
              "    .dataframe tbody tr th:only-of-type {\n",
              "        vertical-align: middle;\n",
              "    }\n",
              "\n",
              "    .dataframe tbody tr th {\n",
              "        vertical-align: top;\n",
              "    }\n",
              "\n",
              "    .dataframe thead th {\n",
              "        text-align: right;\n",
              "    }\n",
              "</style>\n",
              "<table border=\"1\" class=\"dataframe\">\n",
              "  <thead>\n",
              "    <tr style=\"text-align: right;\">\n",
              "      <th></th>\n",
              "      <th>id</th>\n",
              "      <th>fare_amount</th>\n",
              "      <th>pickup_longitude</th>\n",
              "      <th>pickup_latitude</th>\n",
              "      <th>dropoff_longitude</th>\n",
              "      <th>dropoff_latitude</th>\n",
              "      <th>passenger_count</th>\n",
              "    </tr>\n",
              "  </thead>\n",
              "  <tbody>\n",
              "    <tr>\n",
              "      <th>count</th>\n",
              "      <td>5.017000e+03</td>\n",
              "      <td>5017.000000</td>\n",
              "      <td>5017.000000</td>\n",
              "      <td>5017.000000</td>\n",
              "      <td>5017.000000</td>\n",
              "      <td>5017.000000</td>\n",
              "      <td>5017.000000</td>\n",
              "    </tr>\n",
              "    <tr>\n",
              "      <th>mean</th>\n",
              "      <td>2.764705e+07</td>\n",
              "      <td>11.358013</td>\n",
              "      <td>-72.750214</td>\n",
              "      <td>39.992946</td>\n",
              "      <td>-72.673433</td>\n",
              "      <td>40.001225</td>\n",
              "      <td>1.668726</td>\n",
              "    </tr>\n",
              "    <tr>\n",
              "      <th>std</th>\n",
              "      <td>1.585970e+07</td>\n",
              "      <td>10.751875</td>\n",
              "      <td>13.905233</td>\n",
              "      <td>6.088551</td>\n",
              "      <td>9.912731</td>\n",
              "      <td>6.062330</td>\n",
              "      <td>1.291104</td>\n",
              "    </tr>\n",
              "    <tr>\n",
              "      <th>min</th>\n",
              "      <td>4.800000e+02</td>\n",
              "      <td>0.000000</td>\n",
              "      <td>-748.016667</td>\n",
              "      <td>-73.997740</td>\n",
              "      <td>-75.350437</td>\n",
              "      <td>-73.992137</td>\n",
              "      <td>0.000000</td>\n",
              "    </tr>\n",
              "    <tr>\n",
              "      <th>25%</th>\n",
              "      <td>1.419835e+07</td>\n",
              "      <td>6.000000</td>\n",
              "      <td>-73.992000</td>\n",
              "      <td>40.735090</td>\n",
              "      <td>-73.991406</td>\n",
              "      <td>40.733257</td>\n",
              "      <td>1.000000</td>\n",
              "    </tr>\n",
              "    <tr>\n",
              "      <th>50%</th>\n",
              "      <td>2.751560e+07</td>\n",
              "      <td>8.500000</td>\n",
              "      <td>-73.981498</td>\n",
              "      <td>40.752538</td>\n",
              "      <td>-73.979900</td>\n",
              "      <td>40.752693</td>\n",
              "      <td>1.000000</td>\n",
              "    </tr>\n",
              "    <tr>\n",
              "      <th>75%</th>\n",
              "      <td>4.109376e+07</td>\n",
              "      <td>12.500000</td>\n",
              "      <td>-73.967472</td>\n",
              "      <td>40.766519</td>\n",
              "      <td>-73.963146</td>\n",
              "      <td>40.768367</td>\n",
              "      <td>2.000000</td>\n",
              "    </tr>\n",
              "    <tr>\n",
              "      <th>max</th>\n",
              "      <td>5.539226e+07</td>\n",
              "      <td>350.000000</td>\n",
              "      <td>40.770667</td>\n",
              "      <td>41.366138</td>\n",
              "      <td>40.761672</td>\n",
              "      <td>41.366138</td>\n",
              "      <td>6.000000</td>\n",
              "    </tr>\n",
              "  </tbody>\n",
              "</table>\n",
              "</div>\n",
              "      <button class=\"colab-df-convert\" onclick=\"convertToInteractive('df-e50933ed-594c-4011-bb1f-6737d809e6e8')\"\n",
              "              title=\"Convert this dataframe to an interactive table.\"\n",
              "              style=\"display:none;\">\n",
              "        \n",
              "  <svg xmlns=\"http://www.w3.org/2000/svg\" height=\"24px\"viewBox=\"0 0 24 24\"\n",
              "       width=\"24px\">\n",
              "    <path d=\"M0 0h24v24H0V0z\" fill=\"none\"/>\n",
              "    <path d=\"M18.56 5.44l.94 2.06.94-2.06 2.06-.94-2.06-.94-.94-2.06-.94 2.06-2.06.94zm-11 1L8.5 8.5l.94-2.06 2.06-.94-2.06-.94L8.5 2.5l-.94 2.06-2.06.94zm10 10l.94 2.06.94-2.06 2.06-.94-2.06-.94-.94-2.06-.94 2.06-2.06.94z\"/><path d=\"M17.41 7.96l-1.37-1.37c-.4-.4-.92-.59-1.43-.59-.52 0-1.04.2-1.43.59L10.3 9.45l-7.72 7.72c-.78.78-.78 2.05 0 2.83L4 21.41c.39.39.9.59 1.41.59.51 0 1.02-.2 1.41-.59l7.78-7.78 2.81-2.81c.8-.78.8-2.07 0-2.86zM5.41 20L4 18.59l7.72-7.72 1.47 1.35L5.41 20z\"/>\n",
              "  </svg>\n",
              "      </button>\n",
              "      \n",
              "  <style>\n",
              "    .colab-df-container {\n",
              "      display:flex;\n",
              "      flex-wrap:wrap;\n",
              "      gap: 12px;\n",
              "    }\n",
              "\n",
              "    .colab-df-convert {\n",
              "      background-color: #E8F0FE;\n",
              "      border: none;\n",
              "      border-radius: 50%;\n",
              "      cursor: pointer;\n",
              "      display: none;\n",
              "      fill: #1967D2;\n",
              "      height: 32px;\n",
              "      padding: 0 0 0 0;\n",
              "      width: 32px;\n",
              "    }\n",
              "\n",
              "    .colab-df-convert:hover {\n",
              "      background-color: #E2EBFA;\n",
              "      box-shadow: 0px 1px 2px rgba(60, 64, 67, 0.3), 0px 1px 3px 1px rgba(60, 64, 67, 0.15);\n",
              "      fill: #174EA6;\n",
              "    }\n",
              "\n",
              "    [theme=dark] .colab-df-convert {\n",
              "      background-color: #3B4455;\n",
              "      fill: #D2E3FC;\n",
              "    }\n",
              "\n",
              "    [theme=dark] .colab-df-convert:hover {\n",
              "      background-color: #434B5C;\n",
              "      box-shadow: 0px 1px 3px 1px rgba(0, 0, 0, 0.15);\n",
              "      filter: drop-shadow(0px 1px 2px rgba(0, 0, 0, 0.3));\n",
              "      fill: #FFFFFF;\n",
              "    }\n",
              "  </style>\n",
              "\n",
              "      <script>\n",
              "        const buttonEl =\n",
              "          document.querySelector('#df-e50933ed-594c-4011-bb1f-6737d809e6e8 button.colab-df-convert');\n",
              "        buttonEl.style.display =\n",
              "          google.colab.kernel.accessAllowed ? 'block' : 'none';\n",
              "\n",
              "        async function convertToInteractive(key) {\n",
              "          const element = document.querySelector('#df-e50933ed-594c-4011-bb1f-6737d809e6e8');\n",
              "          const dataTable =\n",
              "            await google.colab.kernel.invokeFunction('convertToInteractive',\n",
              "                                                     [key], {});\n",
              "          if (!dataTable) return;\n",
              "\n",
              "          const docLinkHtml = 'Like what you see? Visit the ' +\n",
              "            '<a target=\"_blank\" href=https://colab.research.google.com/notebooks/data_table.ipynb>data table notebook</a>'\n",
              "            + ' to learn more about interactive tables.';\n",
              "          element.innerHTML = '';\n",
              "          dataTable['output_type'] = 'display_data';\n",
              "          await google.colab.output.renderOutput(dataTable, element);\n",
              "          const docLink = document.createElement('div');\n",
              "          docLink.innerHTML = docLinkHtml;\n",
              "          element.appendChild(docLink);\n",
              "        }\n",
              "      </script>\n",
              "    </div>\n",
              "  </div>\n",
              "  "
            ],
            "text/plain": [
              "                 id  fare_amount  ...  dropoff_latitude  passenger_count\n",
              "count  5.017000e+03  5017.000000  ...       5017.000000      5017.000000\n",
              "mean   2.764705e+07    11.358013  ...         40.001225         1.668726\n",
              "std    1.585970e+07    10.751875  ...          6.062330         1.291104\n",
              "min    4.800000e+02     0.000000  ...        -73.992137         0.000000\n",
              "25%    1.419835e+07     6.000000  ...         40.733257         1.000000\n",
              "50%    2.751560e+07     8.500000  ...         40.752693         1.000000\n",
              "75%    4.109376e+07    12.500000  ...         40.768367         2.000000\n",
              "max    5.539226e+07   350.000000  ...         41.366138         6.000000\n",
              "\n",
              "[8 rows x 7 columns]"
            ]
          },
          "metadata": {},
          "execution_count": 20
        }
      ]
    },
    {
      "cell_type": "code",
      "source": [
        "for x1 in df.index:\n",
        "  if df.loc[x1, \"fare_amount\"] ==0:\n",
        "    df.loc[x1, \"fare_amount\"]=df[\"fare_amount\"].mean() \n"
      ],
      "metadata": {
        "id": "QYzttcYPEjuR"
      },
      "execution_count": null,
      "outputs": []
    },
    {
      "cell_type": "code",
      "source": [
        "x=df[\"pickup_datetime\"].str.split('-')\n",
        "year = []\n",
        "for a in x:\n",
        "    year.append(a[0])\n",
        "print(year)\n"
      ],
      "metadata": {
        "colab": {
          "base_uri": "https://localhost:8080/"
        },
        "id": "yXhC2JXjEn7y",
        "outputId": "95e5be5f-c519-40a0-b673-3e9011e7f030"
      },
      "execution_count": null,
      "outputs": [
        {
          "output_type": "stream",
          "name": "stdout",
          "text": [
            "['2015', '2009', '2009', '2009', '28', '2011', '2014', '2012', '2012', '2012', '2015', '2011', '2011', '25', '2010', '2012', '2011', '2011', '2015', '2009', '2014', '2009', '2010', '2010', '2009', '2014', '2009', '2011', '2011', '2009', '2013', '2013', '2014', '2009', '2011', '2011', '2010', '2014', '2010', '2014', '2011', '2009', '2012', '2009', '2014', '2015', '2013', '2013', '2009', '2011', '2012', '2012', '2009', '2014', '2010', '2009', '2009', '2009', '2015', '2011', '2011', '2013', '2014', '2014', '2013', '2012', '2015', '2013', '2009', '2015', '2012', '2011', '2009', '2010', '2014', '2012', '2010', '2012', '2015', '2015', '2012', '2010', '2009', '2010', '2012', '2010', '2010', '2013', '2012', '2010', '2011', '2009', '2014', '2015', '2011', '2010', '2011', '2009', '2014', '2011', '2011', '2009', '2015', '2012', '2015', '2013', '2010', '2012', '2015', '2009', '2012', '2009', '2012', '2011', '2011', '2013', '2014', '2012', '2010', '2013', '2012', '2009', '2009', '2011', '2010', '2010', '2014', '2010', '2010', '2015', '2009', '2010', '2010', '2009', '2013', '2014', '2015', '2009', '2014', '2015', '2011', '2015', '2009', '2015', '2009', '2015', '2015', '2013', '2010', '2013', '2011', '2010', '2015', '2010', '2010', '2012', '2011', '2014', '2009', '2012', '2012', '2010', '2009', '2013', '2014', '2013', '2014', '2010', '2013', '2012', '2015', '2015', '2010', '2009', '2015', '2013', '2010', '2015', '2011', '2011', '2013', '2014', '2015', '2012', '2011', '2012', '2012', '2010', '2011', '2011', '2012', '2012', '2010', '2014', '2009', '2012', '2009', '2011', '2012', '2011', '2012', '2009', '2010', '2011', '2011', '2009', '2013', '2010', '2011', '2010', '2015', '2013', '2009', '2009', '2011', '2009', '2010', '2012', '2013', '2014', '2015', '2009', '2014', '2014', '2012', '2009', '2012', '2011', '2009', '2011', '2014', '2011', '2012', '2015', '2012', '2011', '2012', '2011', '2011', '2013', '2012', '2015', '2009', '2010', '2010', '2012', '2014', '2009', '2013', '2012', '2015', '2012', '2011', '2009', '2009', '2012', '2012', '2015', '2009', '2014', '2014', '2010', '2014', '2013', '2011', '2010', '2013', '2012', '2012', '2014', '2011', '2012', '2009', '2015', '2013', '2013', '2010', '2013', '2014', '2012', '2015', '2014', '2012', '2009', '2013', '2014', '2015', '2009', '2014', '2010', '2013', '2009', '2014', '2009', '2011', '2013', '2014', '2014', '2009', '2012', '2012', '2013', '2013', '2009', '2009', '2009', '2013', '2011', '2013', '2011', '2009', '2012', '2009', '2011', '2010', '2009', '2014', '2012', '2012', '2009', '2011', '2014', '2015', '2012', '2013', '2009', '2014', '2011', '2010', '2011', '2013', '2011', '2014', '2014', '2011', '2013', '2013', '2010', '2012', '2011', '2014', '2012', '2011', '2009', '2015', '2011', '2013', '2009', '2013', '2015', '2010', '2009', '2014', '2014', '2010', '2013', '2010', '2013', '2012', '2009', '2011', '2009', '2009', '2011', '2011', '2011', '2013', '2011', '2011', '2009', '2014', '2012', '2009', '2015', '2012', '2009', '2012', '2015', '2013', '2009', '2014', '2009', '2013', '2012', '2010', '2011', '2010', '2010', '2012', '2011', '2013', '2009', '2009', '2012', '2009', '2014', '2014', '2014', '2015', '2014', '2012', '2010', '2009', '2011', '2009', '2015', '2010', '2012', '2011', '2015', '2015', '2010', '2012', '2014', '2013', '2010', '2013', '2009', '2014', '2009', '2012', '2010', '2009', '2010', '2010', '2010', '2012', '2013', '2014', '2010', '2013', '2010', '2014', '2009', '2011', '2010', '2011', '2013', '2012', '2009', '2009', '2011', '2014', '2011', '2012', '2013', '2013', '2010', '2010', '2014', '2013', '2013', '2012', '2012', '2013', '2012', '2011', '2009', '2013', '2014', '2011', '2011', '2013', '2014', '2013', '2011', '2010', '2010', '2009', '2009', '2009', '2012', '2012', '2010', '2013', '2013', '2011', '2012', '2011', '2012', '2014', '2013', '2015', '2009', '2013', '2011', '2009', '2011', '2009', '2009', '2014', '2015', '2010', '2012', '2014', '2010', '2015', '2015', '2012', '2012', '2013', '2010', '2014', '2012', '2012', '2014', '2011', '2015', '2011', '2009', '2012', '2010', '2012', '2009', '2014', '2014', '2013', '2011', '2012', '2011', '2013', '2014', '2012', '2011', '2014', '2013', '2012', '2010', '2013', '2011', '2009', '2013', '2014', '2015', '2011', '2011', '2014', '2013', '2010', '2011', '2014', '2012', '2013', '2012', '2012', '2010', '2009', '2015', '2012', '2009', '2011', '2015', '2011', '2009', '2013', '2012', '2011', '2010', '2010', '2014', '2010', '2011', '2009', '2009', '2014', '2011', '2011', '2009', '2013', '2009', '2010', '2009', '2009', '2010', '2012', '2009', '2015', '2013', '2011', '2010', '2009', '2010', '2011', '2009', '2013', '2014', '2011', '2013', '2009', '2015', '2010', '2012', '2012', '2012', '2011', '2011', '2011', '2011', '2013', '2010', '2011', '2012', '2012', '2009', '2012', '2014', '2011', '2011', '2013', '2009', '2014', '2010', '2011', '2010', '2009', '2010', '2011', '2014', '2013', '2011', '2012', '2013', '2009', '2014', '2014', '2010', '2011', '2014', '2009', '2013', '2012', '2013', '2012', '2010', '2010', '2014', '2011', '2010', '2014', '2013', '2011', '2010', '2009', '2009', '2009', '2010', '2009', '2009', '2009', '2012', '2010', '2013', '2010', '2014', '2013', '2015', '2012', '2009', '2011', '2012', '2009', '2012', '2009', '2010', '2012', '2011', '2013', '2012', '2012', '2013', '2010', '2010', '2013', '2010', '2009', '2013', '2012', '2009', '2013', '2011', '2011', '2009', '2010', '2013', '2012', '2012', '2012', '2011', '2015', '2010', '2010', '2010', '2013', '2011', '2014', '2012', '2011', '2014', '2012', '2012', '2011', '2013', '2009', '2009', '2009', '2015', '2012', '2009', '2013', '2010', '2009', '2011', '2009', '2012', '2010', '2013', '2012', '2013', '2010', '2012', '2010', '2010', '2014', '2012', '2013', '2012', '2009', '2014', '2012', '2010', '2010', '2014', '2010', '2013', '2013', '2009', '2010', '2013', '2015', '2012', '2014', '2014', '2011', '2010', '2013', '2014', '2011', '2013', '2011', '2013', '2010', '2015', '2014', '2014', '2011', '2012', '2014', '2009', '2014', '2013', '2012', '2010', '2011', '2010', '2009', '2014', '2013', '2009', '2009', '2012', '2010', '2014', '2009', '2013', '2009', '2012', '2012', '2013', '2014', '2011', '2011', '2010', '2013', '2010', '2014', '2009', '2011', '2012', '2009', '2009', '2013', '2011', '2013', '2009', '2014', '2012', '2010', '2012', '2014', '2012', '2011', '2013', '2015', '2012', '2013', '2009', '2013', '2011', '2011', '2011', '2009', '2015', '2012', '2009', '2012', '2014', '2012', '2014', '2012', '2014', '2015', '2009', '2014', '2014', '2011', '2012', '2009', '2014', '2012', '2009', '2012', '2011', '2009', '2012', '2010', '2010', '2011', '2010', '2013', '2012', '2010', '2011', '2012', '2011', '2015', '2014', '2014', '2011', '2010', '2009', '2009', '2011', '2012', '2009', '2012', '2014', '2010', '2010', '2010', '2011', '2014', '2013', '2012', '2009', '2012', '2014', '2014', '2013', '2012', '2014', '2015', '2011', '2014', '2013', '2012', '2009', '2014', '2013', '2010', '2013', '2014', '2010', '2013', '2014', '2010', '2011', '2011', '2012', '2015', '2009', '2013', '2014', '2013', '2014', '2013', '2011', '2015', '2013', '2009', '2011', '2011', '2012', '2014', '2011', '2011', '2011', '2011', '2013', '2012', '2011', '2009', '2013', '2014', '2013', '2009', '2012', '2011', '2009', '2015', '2013', '2009', '2012', '2012', '2012', '2015', '2013', '2013', '2012', '2014', '2010', '2011', '2013', '2009', '2013', '2012', '2009', '2015', '2013', '2013', '2010', '2010', '2011', '2011', '2010', '2015', '2010', '2014', '2012', '2012', '2014', '2014', '2010', '2010', '2010', '2010', '2009', '2013', '2011', '2012', '2010', '2013', '2015', '2014', '2015', '2010', '2012', '2009', '2010', '2014', '2010', '2011', '2011', '2013', '2012', '2010', '2009', '2014', '2013', '2012', '2014', '2013', '2009', '2014', '2011', '2010', '2012', '2009', '2014', '2011', '2014', '2015', '20', '2011', '2010', '2011', '2012', '2013', '2014', '2010', '2014', '2009', '2009', '2015', '2012', '2009', '2009', '2014', '2015', '2010', '2009', '2011', '2009', '2009', '2013', '2014', '2013', '2013', '2014', '2015', '2014', '2014', '2009', '2015', '2013', '2009', '2014', '2010', '2012', '2010', '2009', '2012', '2014', '2009', '2013', '2010', '2013', '2013', '2014', '2013', '2009', '2013', '2010', '2009', '2013', '2015', '2014', '2014', '2010', '2012', '2011', '2011', '2010', '2013', '2011', '2012', '2011', '2009', '2009', '2014', '2014', '2012', '2010', '2014', '2009', '2013', '2012', '2013', '2011', '2009', '2014', '2013', '2013', '2010', '2011', '2014', '2011', '2012', '2013', '2013', '2013', '2014', '2012', '2012', '2009', '2011', '2011', '2009', '2012', '2010', '2009', '2013', '2013', '2014', '2011', '2009', '2015', '2011', '2013', '2014', '2010', '2012', '2009', '2009', '2011', '2009', '2013', '2014', '2012', '2010', '2015', '2009', '2014', '2010', '2012', '2009', '2011', '2011', '2013', '2011', '2012', '2013', '2015', '2009', '2009', '2009', '2009', '2014', '2013', '2009', '2013', '2010', '2010', '2013', '2013', '2011', '2009', '2009', '2011', '2015', '2012', '2012', '2012', '2009', '2010', '2014', '2014', '2011', '2015', '2012', '2011', '2013', '2011', '2012', '2012', '2011', '2014', '2014', '2013', '2013', '2011', '2012', '2010', '2010', '2014', '2009', '2010', '2011', '2015', '2015', '2010', '2014', '2013', '2011', '2012', '2014', '2012', '2014', '2009', '2009', '2009', '2009', '2013', '2011', '2011', '2013', '2013', '2013', '2013', '2014', '2010', '2015', '2012', '2010', '2011', '2009', '2015', '2015', '2009', '2013', '2014', '2010', '2012', '2014', '2015', '2015', '2014', '2013', '2012', '2013', '2009', '2010', '2015', '2014', '2010', '2014', '2015', '2012', '2010', '2013', '2009', '2011', '2009', '2010', '2014', '2011', '2011', '2011', '2013', '2015', '2010', '2012', '2013', '2011', '2013', '2012', '2012', '2009', '2010', '2011', '2010', '2013', '2014', '2010', '2011', '2012', '2009', '2011', '2013', '2014', '2013', '2013', '2009', '2012', '2015', '2011', '2015', '2014', '2012', '2014', '2011', '2011', '2009', '2012', '2012', '2011', '2010', '2013', '2014', '2013', '2014', '2012', '2012', '2010', '2011', '2011', '2014', '2010', '2011', '2009', '2013', '2010', '2014', '2014', '2011', '2012', '2013', '2012', '2014', '2011', '2011', '2012', '2013', '2011', '2012', '2009', '2011', '2014', '2011', '2010', '2013', '2010', '2013', '2010', '2014', '2010', '2014', '2011', '2010', '2011', '2011', '2009', '2012', '2014', '2010', '2012', '2014', '2010', '2012', '2012', '2013', '2009', '2011', '2014', '2009', '2010', '2010', '2014', '2010', '2015', '2011', '2013', '2015', '2011', '2012', '2012', '2013', '2009', '2015', '2012', '2014', '2011', '2010', '2009', '2011', '2009', '2013', '2011', '2013', '2011', '2010', '2012', '2012', '2015', '2014', '2010', '2011', '2014', '2012', '2010', '2009', '2015', '2013', '2010', '2009', '2009', '2013', '2014', '2015', '2013', '2014', '2009', '2010', '2014', '2014', '2013', '2012', '2013', '2010', '2009', '2012', '2010', '2011', '2011', '2014', '2013', '2013', '2011', '2012', '2010', '2013', '2014', '2012', '2014', '2009', '2012', '2010', '2011', '2010', '2010', '2013', '2011', '2012', '2014', '2009', '2014', '2013', '2012', '2015', '2014', '2012', '2011', '2014', '2010', '2010', '2014', '2012', '2015', '2012', '2012', '2011', '2015', '2010', '2011', '2010', '2012', '2012', '2009', '2009', '2015', '2012', '2013', '2011', '2010', '2011', '2015', '2011', '2012', '2012', '2011', '2010', '2015', '2012', '2013', '2014', '2014', '2009', '2012', '2013', '2011', '2013', '2010', '2012', '2011', '2015', '2011', '2010', '2011', '2010', '2009', '2011', '2009', '2009', '2009', '2009', '2011', '2009', '2014', '2013', '2013', '2009', '2013', '2012', '2014', '2011', '2013', '2010', '2012', '2012', '2014', '2012', '2015', '2013', '2012', '2011', '2012', '2010', '2009', '2011', '2014', '2015', '2011', '2011', '2013', '2014', '2012', '2009', '2009', '2015', '2012', '2014', '2011', '2009', '2012', '2014', '2014', '2011', '2013', '2014', '2013', '2011', '2012', '2009', '2015', '2009', '2009', '2009', '2009', '2010', '2009', '2011', '2010', '2014', '2011', '2015', '2013', '2009', '2009', '2012', '2015', '2012', '2011', '2014', '2012', '2013', '2009', '2014', '2015', '2011', '2015', '2013', '2012', '2011', '2010', '2014', '2014', '2011', '2012', '2014', '2010', '2010', '2012', '2015', '2009', '2013', '2009', '2009', '2015', '2011', '2009', '2015', '2014', '2009', '2011', '2013', '2015', '2010', '2010', '2013', '2015', '2009', '2009', '2009', '2009', '2012', '2010', '2011', '2010', '2012', '2011', '2014', '2009', '2012', '2015', '2010', '2012', '2012', '2012', '2011', '2011', '2012', '2012', '2009', '2013', '2015', '2014', '2009', '2013', '2012', '2010', '2012', '2012', '2011', '2014', '2009', '2009', '2011', '2014', '2013', '2011', '2011', '2014', '2014', '2012', '2011', '2010', '2011', '2010', '2010', '2011', '2010', '2011', '2013', '2009', '2013', '2009', '2012', '2009', '2011', '2015', '2015', '2013', '2015', '2014', '2011', '2014', '2014', '2011', '2011', '2012', '2012', '2014', '2011', '2013', '2014', '2009', '2011', '2013', '2011', '2010', '2012', '2010', '2012', '2012', '2011', '2011', '2015', '2015', '2010', '2013', '2012', '2009', '2012', '2014', '2011', '2012', '2012', '2010', '2009', '2013', '2014', '2012', '2012', '2011', '2015', '2009', '2010', '2010', '2013', '2011', '2010', '2011', '2013', '2011', '2013', '2015', '2010', '2012', '2009', '2009', '2010', '2010', '2009', '2009', '2010', '2009', '2011', '2009', '2015', '2013', '2010', '2015', '2014', '2010', '2013', '2014', '2013', '2010', '2013', '2013', '2010', '2010', '2009', '2015', '2010', '2012', '2012', '2013', '2012', '2012', '2012', '2012', '2010', '2014', '2013', '2011', '2012', '2011', '2011', '2013', '2014', '2013', '2012', '2011', '2010', '2013', '2013', '2012', '2009', '2011', '2009', '2012', '2012', '2014', '2009', '2013', '2010', '2014', '2015', '2013', '2011', '2010', '2012', '2013', '2012', '2011', '2013', '2013', '2011', '2009', '2009', '2009', '2012', '2011', '2014', '2012', '2012', '2009', '2011', '2015', '2010', '2013', '2014', '2013', '2011', '2011', '2014', '2012', '2011', '2010', '2012', '2009', '2011', '2013', '2012', '2015', '2011', '2011', '2009', '2014', '2009', '2009', '2011', '2011', '2013', '2012', '2010', '2013', '2010', '2013', '2010', '2011', '2010', '2015', '2012', '2010', '2010', '2011', '2015', '2012', '2013', '2014', '2011', '2011', '2012', '2012', '2010', '2012', '2011', '2009', '2014', '2009', '2011', '2011', '2010', '2014', '2014', '2012', '2012', '2009', '2011', '2009', '2015', '2010', '2012', '2010', '2009', '2015', '2009', '2010', '2014', '2010', '2014', '2010', '2015', '2010', '2012', '2013', '2011', '2015', '2013', '2009', '2015', '2015', '2015', '2011', '2012', '2011', '2013', '2012', '2012', '2013', '2015', '2010', '2009', '2011', '2015', '2011', '2011', '2011', '2010', '2014', '2014', '2012', '2014', '2010', '2011', '2015', '2009', '2009', '2013', '2009', '2013', '2011', '2010', '2013', '2009', '2010', '2010', '2011', '2010', '2009', '2011', '2012', '2013', '2009', '2011', '2010', '2010', '2010', '2010', '2012', '2013', '2009', '2010', '2009', '2015', '2011', '2012', '2009', '2009', '2013', '2010', '2012', '2010', '2014', '2011', '2014', '2011', '2015', '2014', '2012', '2014', '2013', '2015', '2011', '2012', '2011', '2013', '2014', '2009', '2010', '2010', '2014', '2012', '2014', '2010', '2013', '2009', '2014', '2010', '2013', '2015', '2009', '2010', '2012', '2011', '2012', '2011', '2014', '2014', '2013', '2012', '2013', '2012', '2012', '2010', '2014', '2009', '2012', '2012', '2014', '2015', '2014', '2012', '2012', '2011', '2013', '2013', '2009', '2010', '2013', '2012', '2013', '2015', '2009', '2011', '2011', '2013', '2013', '2010', '2012', '2010', '2010', '2011', '2014', '2009', '2012', '2013', '2011', '2011', '2012', '2011', '2011', '2010', '2014', '2012', '2009', '2014', '2010', '2012', '2009', '2010', '2014', '2013', '2014', '2013', '2011', '2012', '2010', '2011', '2013', '2009', '2009', '2014', '2009', '2011', '2009', '2013', '2013', '2011', '2012', '2013', '2013', '2012', '2013', '2010', '2011', '2010', '2009', '2015', '2012', '2011', '2011', '2015', '2012', '2009', '2009', '2015', '2014', '2013', '2010', '2009', '2013', '2009', '2009', '2009', '2010', '2012', '2014', '2009', '2010', '2012', '2009', '2011', '2013', '2012', '2009', '2012', '2013', '2010', '2010', '2012', '2013', '2013', '2011', '2009', '2012', '2010', '2009', '2014', '2015', '2013', '2013', '2012', '2011', '2014', '2012', '2011', '2009', '2010', '2011', '2012', '2011', '2009', '2014', '2012', '2012', '2014', '2015', '2012', '2011', '2013', '2011', '2015', '2009', '2013', '2015', '2014', '2010', '2009', '2014', '2009', '2012', '2014', '2010', '2011', '2014', '2010', '2011', '2009', '2012', '2014', '2011', '2015', '2011', '2013', '2012', '2011', '2013', '2014', '2010', '2012', '2009', '2014', '2014', '2010', '2015', '2010', '2012', '2010', '2009', '2009', '2014', '2012', '2010', '2013', '2012', '2011', '2014', '2010', '2013', '2012', '2012', '2010', '2014', '2012', '2010', '2010', '2012', '2012', '2010', '2011', '2012', '2013', '2009', '2010', '2012', '2012', '2013', '2012', '2012', '2010', '2012', '2013', '2015', '2011', '2014', '2010', '2015', '2009', '2011', '2009', '2009', '2011', '2009', '2013', '2012', '2013', '2012', '2014', '2009', '2014', '2014', '2015', '2009', '2012', '2013', '2014', '2010', '2009', '2011', '2014', '2014', '2009', '2013', '2009', '2010', '2013', '2012', '2010', '2012', '2011', '2011', '2012', '2012', '2009', '2014', '2013', '2013', '2011', '2015', '2009', '2014', '2011', '2015', '2014', '2012', '2010', '2012', '2009', '2010', '2009', '2012', '2013', '2009', '2011', '2009', '2009', '2009', '2011', '2014', '2009', '2010', '2015', '2012', '2014', '2014', '2012', '2010', '2014', '2012', '2011', '2015', '2015', '2013', '2012', '2010', '2012', '2014', '2013', '2013', '2013', '2011', '2013', '2011', '2014', '2013', '2013', '2012', '2009', '2011', '2009', '2009', '2012', '2010', '2009', '2014', '2012', '2014', '2009', '2014', '2012', '2015', '2012', '2011', '2013', '2014', '2012', '2012', '2013', '2010', '2010', '2012', '2011', '2010', '2012', '2009', '2011', '2014', '2014', '2009', '2009', '2012', '2009', '2013', '2009', '2013', '2015', '2014', '2014', '2014', '2009', '2012', '2010', '2015', '2010', '2011', '2014', '2014', '2011', '2012', '2011', '2009', '2009', '2009', '2014', '2011', '2015', '2009', '2009', '2009', '2014', '2009', '2013', '2011', '2010', '2012', '2009', '2011', '2010', '2009', '2015', '2011', '2014', '2013', '2013', '2015', '2013', '2015', '2011', '2010', '2011', '2012', '2012', '2011', '2010', '2012', '2012', '2013', '2012', '2009', '2010', '2011', '2014', '2013', '2013', '2010', '2009', '2009', '2013', '2014', '2014', '2011', '2013', '2014', '2013', '2009', '2009', '2015', '2012', '2013', '2012', '2010', '2011', '2013', '2013', '2009', '2010', '2009', '2011', '2012', '2011', '2015', '2012', '2013', '2011', '2009', '2013', '2015', '2009', '2009', '2014', '2009', '2014', '2009', '2010', '2012', '2009', '2010', '2014', '2013', '2010', '2009', '2013', '2013', '2010', '2010', '2013', '2012', '2014', '2013', '2009', '2011', '2010', '2014', '2015', '2015', '2012', '2010', '2013', '2010', '2014', '2013', '2013', '2013', '2014', '2014', '2010', '2010', '2009', '2011', '2013', '2012', '2010', '2011', '2010', '2010', '2010', '2009', '2009', '2009', '2011', '2015', '2011', '2013', '2012', '2011', '2010', '2013', '2009', '2015', '2011', '2009', '2009', '2010', '2015', '2013', '2011', '2013', '2010', '2011', '2013', '2014', '2014', '2014', '2012', '2011', '2012', '2013', '2015', '2013', '2011', '2014', '2014', '2013', '2010', '2014', '2012', '2014', '2010', '2013', '2011', '2009', '2011', '2011', '2014', '2015', '2010', '2013', '2014', '2014', '2012', '2013', '2014', '2009', '2015', '2009', '2012', '2010', '2010', '2013', '2013', '2010', '2014', '2014', '2011', '2012', '2013', '2012', '2013', '2015', '2009', '2012', '2012', '2013', '2011', '2013', '2011', '2012', '2009', '2013', '2012', '2010', '2015', '2009', '2011', '2011', '2014', '2014', '2010', '2013', '2013', '2009', '2013', '2011', '2012', '2015', '2014', '2014', '2014', '2009', '2010', '2011', '2009', '2010', '2014', '2012', '2014', '2014', '2013', '2014', '2009', '2013', '2013', '2014', '2014', '2011', '2012', '2014', '2014', '2014', '2014', '2014', '2012', '2009', '2011', '2012', '2014', '2010', '2009', '2009', '2014', '2010', '2012', '2010', '2011', '2014', '2014', '2012', '2011', '2013', '2011', '2011', '2012', '2011', '2012', '2014', '2009', '2012', '2015', '2009', '2010', '2011', '2014', '2011', '2011', '2012', '2012', '2015', '2012', '2013', '2010', '2012', '2015', '2009', '2013', '2014', '2011', '2011', '2014', '2014', '2014', '2010', '2013', '2014', '2012', '2014', '2010', '2012', '2013', '2014', '2012', '2010', '2015', '2011', '2013', '2013', '2013', '2013', '2014', '2009', '2011', '2009', '2014', '2012', '2012', '2010', '2015', '2013', '2009', '2015', '2014', '2012', '2013', '2010', '2015', '2009', '2010', '2010', '2013', '2011', '2009', '2010', '2010', '2013', '2013', '2012', '2009', '2014', '2012', '2009', '2011', '2013', '2009', '2011', '2009', '2011', '2009', '2009', '2010', '2012', '2014', '2009', '2009', '2010', '2013', '2009', '2014', '2011', '2014', '2012', '2014', '2012', '2009', '2009', '2014', '2011', '2012', '2011', '2013', '2009', '2014', '2010', '2015', '2009', '2010', '2010', '2010', '2014', '2014', '2014', '2011', '2010', '2012', '2009', '2015', '2009', '2010', '2012', '2013', '2015', '2011', '2012', '2012', '2013', '2010', '2011', '2012', '2012', '2012', '2015', '2009', '2015', '2013', '2015', '2012', '2009', '2015', '2015', '2010', '2012', '2013', '2013', '2013', '2010', '2014', '2013', '2009', '2013', '2012', '2009', '2012', '2011', '2009', '2009', '2012', '2011', '2010', '2013', '2013', '2014', '2014', '2014', '2015', '2012', '2010', '2010', '2011', '2011', '2009', '2013', '2012', '2011', '2012', '2009', '2013', '2009', '2010', '2009', '2013', '2012', '2011', '2013', '2012', '2013', '2009', '2014', '2011', '2009', '2010', '2009', '2009', '2011', '2009', '2013', '2010', '2014', '2015', '2015', '2011', '2015', '2010', '2015', '2009', '2013', '2010', '2010', '2011', '2013', '2011', '2012', '2009', '2011', '2011', '2015', '2012', '2009', '2011', '2010', '2013', '2012', '2013', '2009', '2010', '2010', '2009', '2010', '2010', '2009', '2010', '2009', '2012', '2013', '2014', '2013', '2015', '2009', '2010', '2010', '2011', '2010', '2014', '2009', '2013', '2010', '2012', '2013', '2010', '2010', '2014', '2014', '2013', '2010', '2012', '2011', '2009', '2010', '2012', '2013', '2010', '2015', '2015', '2010', '2013', '2010', '2009', '2009', '2010', '2009', '2009', '2012', '2009', '2015', '2014', '2013', '2014', '2012', '2011', '2009', '2011', '2013', '2014', '2009', '2012', '2012', '2009', '2009', '2013', '2011', '2014', '2012', '2012', '2010', '2011', '2011', '2010', '2011', '2009', '2014', '2012', '2013', '2015', '2013', '2012', '2012', '2011', '2009', '2013', '2011', '2012', '2012', '2012', '2014', '2015', '2014', '2012', '2012', '2012', '2012', '2010', '2014', '2011', '2015', '2013', '2009', '2013', '2009', '2011', '2011', '2012', '2011', '2013', '2009', '2012', '2015', '2010', '2009', '2012', '2012', '2013', '2011', '2010', '2012', '2010', '2010', '2012', '2009', '2014', '2012', '2015', '2011', '2014', '2010', '2012', '2009', '2014', '2012', '2011', '2012', '2011', '2010', '2013', '2014', '2010', '2013', '2014', '2013', '2015', '2012', '2009', '2013', '2010', '2011', '2013', '2015', '2011', '2011', '2010', '2011', '2011', '2012', '2010', '2014', '2009', '2010', '2011', '2009', '2009', '2015', '2013', '2010', '2012', '2014', '2011', '2012', '2013', '2013', '2012', '2015', '2014', '2012', '2009', '2009', '2014', '2010', '2014', '2010', '2014', '2015', '2009', '2011', '2014', '2009', '2009', '2011', '2012', '2012', '2014', '2011', '2010', '2011', '2010', '2011', '2012', '2010', '2011', '2010', '2013', '2015', '2010', '2013', '2010', '2010', '2010', '2014', '2014', '2013', '2009', '2013', '2011', '2011', '2010', '2010', '2010', '2011', '2010', '2013', '2012', '2011', '2012', '2013', '2013', '2014', '2014', '2010', '2015', '2014', '2015', '2013', '2012', '2012', '2009', '2014', '2013', '2014', '2010', '2015', '2012', '2014', '2013', '2010', '2015', '2011', '2009', '2012', '2014', '2012', '2011', '2014', '2014', '2010', '2010', '2012', '2010', '2014', '2013', '2009', '2013', '2014', '2011', '2015', '2010', '2014', '2013', '2014', '2010', '2015', '2013', '2012', '2011', '2009', '2011', '2012', '2014', '2011', '2012', '2010', '2014', '2012', '2013', '2011', '2014', '2013', '2013', '2009', '2013', '2009', '2010', '2014', '2014', '2014', '2014', '2014', '2011', '2014', '2011', '2015', '2014', '2015', '2009', '2014', '2011', '2015', '2012', '2009', '2010', '2010', '2014', '2013', '2009', '2010', '2015', '2010', '2015', '2011', '2011', '2014', '2013', '2014', '2013', '2011', '2012', '2010', '2009', '2012', '2014', '2010', '2013', '2012', '2009', '2012', '2012', '2009', '2010', '2009', '2011', '2011', '2009', '2010', '2012', '2014', '2010', '2013', '2012', '2012', '2013', '2012', '2010', '2011', '2014', '2012', '2009', '2009', '2009', '2010', '2009', '2010', '2011', '2013', '2014', '2015', '2012', '2011', '2012', '2009', '2013', '2009', '2009', '2009', '2014', '2013', '2013', '2011', '2014', '2011', '2013', '2011', '2014', '2012', '2012', '2015', '2010', '2009', '2013', '2011', '2013', '2012', '2010', '2011', '2014', '2015', '2009', '2012', '2014', '2010', '2009', '2011', '2010', '2014', '2014', '2009', '2009', '2013', '2015', '2009', '2015', '2014', '2012', '2011', '2009', '2010', '2013', '2015', '2009', '2010', '2009', '2012', '2013', '2011', '2015', '2015', '2012', '2013', '2011', '2009', '2014', '2012', '2013', '2009', '2010', '2009', '2010', '2012', '2012', '2011', '2013', '2014', '2010', '2013', '2009', '2011', '2009', '2011', '2015', '2012', '2011', '2015', '2015', '2012', '2013', '2014', '2010', '2014', '2013', '2009', '2009', '2011', '2012', '2012', '2011', '2015', '2014', '2010', '2012', '2014', '2014', '2012', '2010', '2012', '2010', '2009', '2011', '2015', '2015', '2011', '2010', '2009', '2013', '2012', '2010', '2014', '2012', '2014', '2014', '2012', '2014', '2012', '2011', '2011', '2011', '2012', '2014', '2009', '2011', '2015', '2009', '2012', '2012', '2009', '2011', '2013', '2013', '2013', '2011', '2011', '2010', '2011', '2011', '2014', '2012', '2011', '2011', '2012', '2009', '2015', '2012', '2012', '2009', '2014', '2012', '2012', '2015', '2014', '2015', '2015', '2009', '2009', '2014', '2015', '2011', '2013', '2014', '2012', '2012', '2009', '2015', '2011', '2012', '2013', '2010', '2015', '2012', '2011', '2011', '2015', '2014', '2010', '2013', '2012', '2009', '2012', '2012', '2012', '2013', '2009', '2012', '2014', '2010', '2010', '2010', '2009', '2014', '2012', '2012', '2014', '2009', '2010', '2009', '2012', '2013', '2014', '2011', '2010', '2014', '2014', '2013', '2012', '2012', '2011', '2014', '2009', '2011', '2009', '2014', '2014', '2011', '2014', '2013', '2014', '2014', '2014', '2011', '2013', '2014', '2009', '2010', '2012', '2012', '2011', '2014', '2009', '2012', '2011', '2012', '2011', '2009', '2011', '2014', '2014', '2013', '2010', '2012', '2011', '2012', '2009', '2009', '2015', '2011', '2012', '2014', '2013', '2009', '2011', '2013', '2009', '2012', '2012', '2010', '2014', '2013', '2012', '2009', '2014', '2014', '2009', '2013', '2009', '2011', '2012', '2013', '2012', '2010', '2012', '2012', '2013', '2009', '2012', '2011', '2012', '2013', '2009', '2014', '2015', '2010', '2010', '2014', '2013', '2009', '2009', '2011', '2014', '2013', '2012', '2011', '2009', '2014', '2014', '2013', '2010', '2013', '2014', '2012', '2010', '2011', '2012', '2015', '2013', '2010', '2009', '2011', '2010', '2012', '2009', '2015', '2014', '2009', '2013', '2009', '2011', '2010', '2011', '2009', '2013', '2010', '2010', '2013', '2011', '2014', '2014', '2012', '2015', '2011', '2013', '2010', '2015', '2009', '2014', '2013', '2012', '2013', '2012', '2010', '2011', '2011', '2011', '2014', '2010', '2013', '2013', '2011', '2013', '2015', '2014', '2013', '2011', '2010', '2013', '2012', '2009', '2009', '2015', '2014', '2014', '2015', '2011', '2013', '2011', '2011', '2010', '2009', '2013', '2014', '2014', '2013', '2013', '2013', '2014', '2015', '2009', '2012', '2009', '2013', '2009', '2013', '2009', '2011', '2014', '2012', '2012', '2012', '2010', '2014', '2013', '2014', '2010', '2013', '2010', '2009', '2014', '2011', '2009', '2013', '2009', '2012', '2009', '2012', '2013', '2009', '2014', '2011', '2010', '2012', '2012', '2014', '2012', '2012', '2011', '2013', '2012', '2013', '2013', '2010', '2009', '2011', '2013', '2010', '2015', '2012', '2009', '2014', '2010', '2009', '2010', '2010', '2012', '2009', '2011', '2011', '2011', '2011', '2013', '2014', '2010', '2010', '2015', '2015', '2011', '2012', '2014', '2011', '2011', '2011', '2009', '2011', '2010', '2010', '2011', '2014', '2014', '2014', '2010', '2010', '2010', '2010', '2014', '2010', '2010', '2012', '2012', '2010', '2012', '2012', '2013', '2013', '2011', '2012', '2010', '2013', '2011', '2014', '2011', '2012', '2012', '2013', '2011', '2014', '2012', '2010', '2012', '2010', '2009', '2010', '2013', '2010', '2014', '2011', '2014', '2012', '2010', '2009', '2013', '2014', '2013', '2009', '2009', '2014', '2010', '2012', '2010', '2010', '2012', '2012', '2011', '2011', '2009', '2015', '2013', '2010', '2014', '2014', '2011', '2009', '2011', '2010', '2012', '2014', '2014', '2012', '2011', '2012', '2010', '2011', '2009', '2010', '2013', '2012', '2009', '2012', '2013', '2011', '2010', '2012', '2009', '2010', '2011', '2014', '2013', '2012', '2011', '2013', '2013', '2009', '2010', '2014', '2012', '2011', '2012', '2012', '2009', '2010', '2014', '2010', '2013', '2015', '2010', '2011', '2014', '2010', '2014', '2010', '2010', '2009', '2013', '2009', '2012', '2010', '2013', '2015', '2013', '2012', '2014', '2014', '2012', '2014', '2011', '2014', '2014', '2012', '2014', '2013', '2010', '2013', '2014', '2009', '2014', '2010', '2012', '2012', '2013', '2009', '2013', '2014', '2011', '2015', '2011', '2010', '2010', '2009', '2014', '2014', '2009', '2011', '2013', '2013', '2013', '2014', '2012', '2011', '2014', '2014', '2013', '2012', '2011', '2011', '2010', '2014', '2009', '2013', '2013', '2011', '2010', '2012', '2013', '2009', '2013', '2011', '2013', '2013', '2011', '2009', '2009', '2013', '2011', '2010', '2013', '2013', '2013', '2013', '2009', '2009', '2013', '2010', '2011', '2012', '2011', '2011', '2011', '2011', '2012', '2011', '2012', '2015', '2009', '2011', '2012', '2010', '2010', '2014', '2013', '2014', '2013', '2010', '2014', '2011', '2013', '2012', '2015', '2014', '2014', '2013', '2012', '2011', '2014', '2012', '2010', '2013', '2009', '2009', '2013', '2011', '2014', '2012', '2009', '2015', '2015', '2012', '2012', '2013', '2011', '2009', '2013', '2015', '2013', '2015', '2009', '2012', '2012', '2011', '2009', '2009', '2012', '2011', '2013', '2012', '2015', '2013', '2014', '2013', '2010', '2012', '2013', '2012', '2012', '2011', '2013', '2011', '2009', '2013', '2012', '2013', '2010', '2014', '2009', '2014', '2011', '2014', '2011', '2009', '2014', '2011', '2015', '2011', '2013', '2011', '2013', '2010', '2009', '2009', '2014', '2014', '2013', '2013', '2010', '2010', '2015', '2014', '2009', '2010', '2012', '2012', '2014', '2009', '2014', '2013', '2014', '2009', '2010', '2009', '2012', '2013', '2010', '2011', '2011', '2013', '2011', '2009', '2009', '2010', '2011', '2015', '2010', '2011', '2014', '2014', '2014', '2013', '2011', '2011', '2013', '2014', '2009', '2012', '2012', '2010', '2011', '2014', '2011', '2011', '2011', '2012', '2015', '2013', '2014', '2013', '2012', '2014', '2013', '2012', '2009', '2010', '2012', '2011', '2014', '2012', '2014', '2014', '2009', '2009', '2015', '2011', '2013', '2011', '2011', '2010', '2010', '2013', '2015', '2013', '2010', '2009', '2013', '2014', '2011', '2012', '2015', '2012', '2014', '2009', '2015', '2012', '2013', '2011', '2012', '2009', '2015', '2011', '2013', '2010', '2014', '2010', '2012', '2009', '2013', '2011', '2014', '2009', '2012', '2010', '2012', '2010', '2012', '2012', '2012', '2009', '2010', '2009', '2009', '2015', '2013', '2011', '2011', '2015', '2011', '2012', '2009', '2011', '2013', '2009', '2010', '2012', '2014', '2012', '2011', '2010', '2011', '2009', '2009', '2010', '2012', '2013', '2012', '2014', '2012', '2012', '2010', '2012', '2012', '2010', '2011', '2013', '2014', '2010', '2009', '2011', '2014', '2013', '2014', '2011', '2012', '2014', '2013', '2011', '2015', '2013', '2010', '2014', '2013', '2009', '2009', '2013', '2012', '2012', '2009', '2013', '2015', '2009', '2015', '2010', '2010', '2014', '2013', '2013', '2009', '2011', '2012', '2015', '2013', '2015', '2011', '2010', '2012', '2013', '2013', '2013', '2013', '2013', '2010', '2009', '2014', '2013', '2010', '2012', '2013', '2009', '2013', '2009', '2010', '2013', '2010', '2014', '2010', '2011', '2009', '2009', '2009', '2014', '2014', '2009', '2015', '2009', '2010', '2010', '2012', '2014', '2009', '2009', '2011', '2011', '2011', '2013', '2015', '2012', '2010', '2012', '2013', '2011', '2010', '2013', '2012', '2009', '2012', '2009', '2013', '2011', '2011', '2013', '2013', '2013', '2012', '2013', '2011', '2013', '2010', '2012', '2015', '2009', '2013', '2010', '2009', '2011', '2012', '2014', '2011', '2012', '2009', '2010', '2009', '2014', '2011', '2011', '2011', '2009', '2009', '2012', '2010', '2011', '2009', '2011', '2012', '2010', '2013', '2013', '2011', '2012', '2014', '2012', '2011', '2011', '2015', '2013', '2012', '2009', '2009', '2015', '2010', '2013', '2015', '2013', '2011', '2012', '2012', '2013', '2013', '2009', '2009', '2012', '2009', '2009', '2012', '2012', '2009', '2010', '2013', '2011', '2015', '2014', '2015', '2012', '2010', '2011', '2012', '2011', '2012', '2014', '2011', '2009', '2009', '2011', '2013', '2011', '2013', '2010', '2009', '2009', '2010', '2011', '2009', '2011', '2010', '2011', '2012', '2014', '2010', '2009', '2010', '2015', '2012', '2014', '2009', '2011', '2009', '2013', '2013', '2010', '2011', '2009', '2012', '2013', '2011', '2013', '2014', '2015', '2010', '2010', '2009', '2009', '2011', '2011', '2013', '2009', '2015', '2014', '2015', '2013', '2012', '2010', '2009', '2014', '2009', '2015', '2012', '2012', '2015', '2014', '2014', '2010', '2014', '2009', '2011', '2014', '2011', '2009', '2015', '2011', '2010', '2011', '2012', '2015', '2009', '2013', '2010', '2010', '2015', '2012', '2011', '2012', '2012', '2009', '2010', '2009', '2009', '2011', '2009', '2011', '2010', '2013', '2015', '2015', '2012', '2012', '2012', '2012', '2010', '2010', '2014', '2015', '2012', '2012', '2009', '2010', '2009', '2013', '2014', '2012', '2010', '2012', '2010', '2010', '2010', '2014', '2011', '2010', '2012', '2012', '2013', '2009', '2012', '2011', '2010', '2013', '2012', '2009', '2010', '2012', '2013', '2014', '2009', '2013', '2015', '2013', '2012', '2012', '2009', '2009', '2011', '2012', '2014', '2009', '2012', '2011', '2012', '2010', '2014', '2010', '2014', '2012', '2012', '2013', '2014', '2013', '2012', '2010', '2009', '2011', '2009', '2010', '2009', '2013', '2010', '2009', '2013', '2009', '2012', '2013', '2010', '2011', '2009', '2013', '2012', '2013', '2010', '2010', '2013', '2014', '2012', '2012', '2015', '2012', '2011', '2014', '2014', '2015', '2015', '2012', '2009', '2012', '2011', '2012', '2014', '2013', '2014', '2010', '2010', '2012', '2013', '2011', '2015', '2010', '2010', '2011', '2011', '2013', '2010', '2011', '2014', '2015', '2011', '2012', '2012', '2013', '2010', '2012', '2012', '2011', '2009', '2010', '2009', '2009', '2009', '2012', '2010', '2013', '2009', '2014', '2011', '2013', '2011', '2012', '2010', '2014', '2014', '2009', '2014', '2012', '2015', '2009', '2013', '2012', '2012', '2009', '2011', '2011', '2014', '2011', '2014', '2015', '2011', '2013', '2015', '2014', '2009', '2011', '2012', '2010', '2010', '2013', '2009', '2012', '2013', '2015', '2012', '2011', '2014', '2011', '2009', '2011', '2012', '2012', '2012', '2014', '2012', '2014', '2010', '2014', '2015', '2010', '2012', '2015', '2011', '2011', '2011', '2010', '2012', '2013', '2014', '2010', '2012', '2011', '2012', '2013', '2010', '2011', '2014', '2011', '2014', '2010', '2013', '2013', '2015', '2009', '2013', '2011', '2009', '2014', '2010', '2013', '2012', '2009', '2010', '2014', '2015', '2013', '2013', '2012', '2013', '2012', '2009', '2009', '2015', '2010', '2015', '2014', '2011', '2014', '2012', '2015', '2011', '2010', '2012', '2010', '2015', '2013', '2012', '2014', '2014', '2011', '2012', '2011', '2013', '2010', '2012', '2013', '2012', '2013', '2013', '2009', '2011', '2010', '2011', '2010', '2015', '2014', '2013', '2009', '2013', '2015', '2012', '2011', '2014', '2013', '2014', '2011', '2009', '2009', '2009', '2009', '2011', '2010', '2013', '2011', '2012', '2010', '2011', '2011', '2011', '2011', '2012', '2014', '2009', '2012', '2009', '2014', '2011', '2013', '2009', '2009', '2012', '2011', '2012', '2012', '2010', '2011', '2014', '2009', '2014', '2011', '2012', '2012', '2012', '2015', '2012', '2010', '2009', '2015', '2011', '2012', '2013', '2013', '2013', '2013', '2015', '2010', '2009', '2014', '2010', '2015', '2009', '2012', '2009', '2009', '2010', '2009', '2010', '2010', '2013', '2014', '2009', '2012', '2009', '2012', '2013', '2013', '2011', '2009', '2010', '2010', '2014', '2010', '2015', '2009', '2013', '2013', '2009', '2014', '2010', '2011', '2011', '2014', '2013', '2010', '2009', '2013', '2011', '2013', '2011', '2010', '2010', '2015', '2014', '2011', '2012', '2011', '2009', '2011', '2013', '2013', '2011', '2015', '2011', '2010', '2012', '2009', '2013', '2012', '2011', '2011', '2011', '2015', '2014', '2013', '2015', '2009', '2013', '2013', '2015', '2009', '2012', '2013', '2009', '2012', '2010', '2013', '2009', '2009', '2013', '2011', '2014', '2010', '2013', '2015', '2011', '2013', '2011', '2009', '2014', '2010', '2010', '2010', '2014', '2015', '2014', '2009', '2011', '2010', '2011', '2013', '2011', '2014', '2012', '2012', '22', '05', '2010', '2014', '2014', '2010', '2013', '2011', '2010', '2011', '2011', '2009', '2013', '2010', '2009', '2013', '2010', '2009', '2009', '2012', '2012', '2010', '2010', '2012', '2010', '2013', '2013', '2013', '2012', '2015', '2013', '2014', '2011', '2014', '2011', '2014', '2009', '2010', '2013', '2011', '2014', '2010', '2010', '2015', '2011', '2010', '2012', '2012', '2009', '2013', '2012', '2009', '2013', '2015', '2009', '2010', '2013', '2014', '2009', '2010', '2014', '2014', '2010', '2012', '2009', '2012', '2011', '2009', '2014', '2013', '2012', '2009', '2010', '2009', '2012', '2014', '2013', '2012', '2010', '2013', '2009', '2009', '24', '2011', '2012', '2010', '2014', '2014', '2009', '2010', '2012', '2012', '2010', '2014', '2012', '2011', '2015', '2012', '2013', '2012', '2009', '2013', '2014', '2015', '2013', '2014', '2013', '2015', '2010', '2013', '2010', '2014', '2009', '2009', '2011', '2012', '2014', '2014', '2009', '2011', '2012', '2013', '2009', '2011', '2012', '2012', '2009', '2009', '2011', '2012', '2010', '2015', '2009', '2012', '2010', '2015', '2013', '2009', '2011', '2015', '2012', '2012', '2012', '2012', '2012', '2011', '2013', '2009', '2009', '2009', '2012', '2012', '2011', '2013', '2011', '2010', '2009', '2010', '2012', '2009', '2013', '2015', '2013', '2012', '2015', '2014', '2009', '2013', '2010', '2013', '2013', '2013', '2014', '2011', '2014', '2015', '2014', '2011', '2010', '2010', '2015', '2010', '2009', '2014', '2011', '2015', '2009', '2013', '2013', '2010', '2015', '2012', '2010', '2009', '2014', '2009', '2010', '2015', '14', '2013', '2009', '2011', '2014', '2010', '2011', '2012', '2009', '2011', '2009', '2009', '2010', '2011', '2014', '2014', '2011', '2014', '2012', '2011', '2014', '2011', '2014', '2014', '2015', '2013', '2013', '2015', '20']\n"
          ]
        }
      ]
    },
    {
      "cell_type": "code",
      "source": [
        "df.info()"
      ],
      "metadata": {
        "colab": {
          "base_uri": "https://localhost:8080/"
        },
        "id": "eMT2n04cE-5q",
        "outputId": "3321cd1b-b7c9-478f-cd00-bef98bd6f479"
      },
      "execution_count": null,
      "outputs": [
        {
          "output_type": "stream",
          "name": "stdout",
          "text": [
            "<class 'pandas.core.frame.DataFrame'>\n",
            "Int64Index: 5017 entries, 0 to 5027\n",
            "Data columns (total 9 columns):\n",
            " #   Column             Non-Null Count  Dtype  \n",
            "---  ------             --------------  -----  \n",
            " 0   id                 5017 non-null   int64  \n",
            " 1   key                5017 non-null   object \n",
            " 2   fare_amount        5017 non-null   float64\n",
            " 3   pickup_datetime    5017 non-null   object \n",
            " 4   pickup_longitude   5017 non-null   float64\n",
            " 5   pickup_latitude    5017 non-null   float64\n",
            " 6   dropoff_longitude  5017 non-null   float64\n",
            " 7   dropoff_latitude   5017 non-null   float64\n",
            " 8   passenger_count    5017 non-null   float64\n",
            "dtypes: float64(6), int64(1), object(2)\n",
            "memory usage: 521.0+ KB\n"
          ]
        }
      ]
    },
    {
      "cell_type": "code",
      "source": [
        "df['Pick_Up_Date'] = pd.to_datetime(df['pickup_datetime'])\n",
        "\n",
        "print(df)"
      ],
      "metadata": {
        "colab": {
          "base_uri": "https://localhost:8080/"
        },
        "id": "p956wy5-Fbq6",
        "outputId": "e17cdb4a-b93d-450e-8f87-898576c9246a"
      },
      "execution_count": null,
      "outputs": [
        {
          "output_type": "stream",
          "name": "stdout",
          "text": [
            "            id      key  ...  passenger_count               Pick_Up_Date\n",
            "0     24238194  52:06.0  ...              1.0  2015-05-07 19:52:06+00:00\n",
            "1     27835199  04:56.0  ...              1.0  2009-07-17 20:04:56+00:00\n",
            "2     44984355  45:00.0  ...              1.0  2009-08-24 21:45:00+00:00\n",
            "3     25894730  22:21.0  ...              3.0  2009-06-26 08:22:21+00:00\n",
            "4     17610152  47:00.0  ...              5.0        2014-08-28 00:00:00\n",
            "...        ...      ...  ...              ...                        ...\n",
            "5023  49621474  43:40.0  ...              1.0  2015-01-31 17:43:40+00:00\n",
            "5024   2551118  12:00.0  ...              1.0  2013-01-26 15:12:00+00:00\n",
            "5025   2003470  13:47.0  ...              1.0  2013-02-23 00:13:47+00:00\n",
            "5026  34334407  16:09.0  ...              1.0  2015-05-16 20:16:09+00:00\n",
            "5027  47247558  32:00.0  ...              1.0        2009-07-20 00:00:00\n",
            "\n",
            "[5017 rows x 10 columns]\n"
          ]
        }
      ]
    },
    {
      "cell_type": "code",
      "source": [
        "for i in df.index:\n",
        "  if df.loc[i, \"passenger_count\"] ==0:\n",
        "    df.loc[i, \"passenger_count\"] =df[\"passenger_count\"].mean()\n"
      ],
      "metadata": {
        "id": "UC0prLIIGKmC"
      },
      "execution_count": null,
      "outputs": []
    },
    {
      "cell_type": "code",
      "source": [
        "df['Years']=year\n",
        "df['Years'].value_counts()"
      ],
      "metadata": {
        "colab": {
          "base_uri": "https://localhost:8080/"
        },
        "id": "DTxSquxTGlPo",
        "outputId": "e7bbe25b-cff1-48b2-d4bf-8a22e78ad5ee"
      },
      "execution_count": null,
      "outputs": [
        {
          "output_type": "execute_result",
          "data": {
            "text/plain": [
              "2012    849\n",
              "2009    801\n",
              "2011    795\n",
              "2013    759\n",
              "2010    731\n",
              "2014    702\n",
              "2015    372\n",
              "20        2\n",
              "28        1\n",
              "25        1\n",
              "22        1\n",
              "05        1\n",
              "24        1\n",
              "14        1\n",
              "Name: Years, dtype: int64"
            ]
          },
          "metadata": {},
          "execution_count": 28
        }
      ]
    },
    {
      "cell_type": "code",
      "source": [
        "import datetime as datetime\n",
        "df['Dates'] = pd.to_datetime(df['Pick_Up_Date'], utc=True)"
      ],
      "metadata": {
        "id": "_iIeChKxG4iU"
      },
      "execution_count": null,
      "outputs": []
    },
    {
      "cell_type": "code",
      "source": [
        "df['year'] = pd.DatetimeIndex(df['Dates']).year"
      ],
      "metadata": {
        "id": "2HM-R37EHV3d"
      },
      "execution_count": null,
      "outputs": []
    },
    {
      "cell_type": "code",
      "source": [
        "df['year'].value_counts()"
      ],
      "metadata": {
        "colab": {
          "base_uri": "https://localhost:8080/"
        },
        "id": "cEELWn9FHcxa",
        "outputId": "66cb8a3d-03b9-4f11-da2b-8a0f01eac9cb"
      },
      "execution_count": null,
      "outputs": [
        {
          "output_type": "execute_result",
          "data": {
            "text/plain": [
              "2012    850\n",
              "2009    803\n",
              "2011    796\n",
              "2013    760\n",
              "2010    732\n",
              "2014    703\n",
              "2015    373\n",
              "Name: year, dtype: int64"
            ]
          },
          "metadata": {},
          "execution_count": 31
        }
      ]
    },
    {
      "cell_type": "code",
      "source": [
        "df.info()"
      ],
      "metadata": {
        "colab": {
          "base_uri": "https://localhost:8080/"
        },
        "id": "VVvk5PrCHhL4",
        "outputId": "084c50df-40dc-4bbd-bd7b-909b52dbb0de"
      },
      "execution_count": null,
      "outputs": [
        {
          "output_type": "stream",
          "name": "stdout",
          "text": [
            "<class 'pandas.core.frame.DataFrame'>\n",
            "Int64Index: 5017 entries, 0 to 5027\n",
            "Data columns (total 13 columns):\n",
            " #   Column             Non-Null Count  Dtype              \n",
            "---  ------             --------------  -----              \n",
            " 0   id                 5017 non-null   int64              \n",
            " 1   key                5017 non-null   object             \n",
            " 2   fare_amount        5017 non-null   float64            \n",
            " 3   pickup_datetime    5017 non-null   object             \n",
            " 4   pickup_longitude   5017 non-null   float64            \n",
            " 5   pickup_latitude    5017 non-null   float64            \n",
            " 6   dropoff_longitude  5017 non-null   float64            \n",
            " 7   dropoff_latitude   5017 non-null   float64            \n",
            " 8   passenger_count    5017 non-null   float64            \n",
            " 9   Pick_Up_Date       5017 non-null   object             \n",
            " 10  Years              5017 non-null   object             \n",
            " 11  Dates              5017 non-null   datetime64[ns, UTC]\n",
            " 12  year               5017 non-null   int64              \n",
            "dtypes: datetime64[ns, UTC](1), float64(6), int64(2), object(4)\n",
            "memory usage: 677.8+ KB\n"
          ]
        }
      ]
    },
    {
      "cell_type": "code",
      "source": [
        "df1=df.drop(columns=['Years', 'Pick_Up_Date'])"
      ],
      "metadata": {
        "id": "-wPyYSbQHsBP"
      },
      "execution_count": null,
      "outputs": []
    },
    {
      "cell_type": "code",
      "source": [
        "df=df1\n",
        "df.info()"
      ],
      "metadata": {
        "colab": {
          "base_uri": "https://localhost:8080/"
        },
        "id": "RUGFMnxfIU_6",
        "outputId": "356bf901-5029-4abc-b96d-8b4431136c26"
      },
      "execution_count": null,
      "outputs": [
        {
          "output_type": "stream",
          "name": "stdout",
          "text": [
            "<class 'pandas.core.frame.DataFrame'>\n",
            "Int64Index: 5017 entries, 0 to 5027\n",
            "Data columns (total 11 columns):\n",
            " #   Column             Non-Null Count  Dtype              \n",
            "---  ------             --------------  -----              \n",
            " 0   id                 5017 non-null   int64              \n",
            " 1   key                5017 non-null   object             \n",
            " 2   fare_amount        5017 non-null   float64            \n",
            " 3   pickup_datetime    5017 non-null   object             \n",
            " 4   pickup_longitude   5017 non-null   float64            \n",
            " 5   pickup_latitude    5017 non-null   float64            \n",
            " 6   dropoff_longitude  5017 non-null   float64            \n",
            " 7   dropoff_latitude   5017 non-null   float64            \n",
            " 8   passenger_count    5017 non-null   float64            \n",
            " 9   Dates              5017 non-null   datetime64[ns, UTC]\n",
            " 10  year               5017 non-null   int64              \n",
            "dtypes: datetime64[ns, UTC](1), float64(6), int64(2), object(2)\n",
            "memory usage: 599.4+ KB\n"
          ]
        }
      ]
    },
    {
      "cell_type": "code",
      "source": [
        "df['Date'] = df['Dates'].apply(lambda time: time.day)\n",
        "df['Hour'] = df['Dates'].apply(lambda time: time.hour)\n",
        "df['Month'] = df['Dates'].apply(lambda time: time.month)\n",
        "df['Day of Week'] = df['Dates'].apply(lambda time: time.dayofweek)\n",
        "df['counter'] = 1\n",
        "\n",
        "dmap = {0:'Mon',1:'Tue',2:'Wed',3:'Thu',4:'Fri',5:'Sat',6:'Sun'}\n",
        "df['Day of Week'] = df['Day of Week'].map(dmap)"
      ],
      "metadata": {
        "id": "t9TUlsjsIW-C"
      },
      "execution_count": null,
      "outputs": []
    },
    {
      "cell_type": "code",
      "source": [
        "df.info()"
      ],
      "metadata": {
        "colab": {
          "base_uri": "https://localhost:8080/"
        },
        "id": "arSgxTioK_ny",
        "outputId": "769499b4-76cf-4310-a94e-628199ee2fb2"
      },
      "execution_count": null,
      "outputs": [
        {
          "output_type": "stream",
          "name": "stdout",
          "text": [
            "<class 'pandas.core.frame.DataFrame'>\n",
            "Int64Index: 5017 entries, 0 to 5027\n",
            "Data columns (total 17 columns):\n",
            " #   Column             Non-Null Count  Dtype              \n",
            "---  ------             --------------  -----              \n",
            " 0   id                 5017 non-null   int64              \n",
            " 1   key                5017 non-null   object             \n",
            " 2   fare_amount        5017 non-null   float64            \n",
            " 3   pickup_datetime    5017 non-null   object             \n",
            " 4   pickup_longitude   5017 non-null   float64            \n",
            " 5   pickup_latitude    5017 non-null   float64            \n",
            " 6   dropoff_longitude  5017 non-null   float64            \n",
            " 7   dropoff_latitude   5017 non-null   float64            \n",
            " 8   passenger_count    5017 non-null   float64            \n",
            " 9   Dates              5017 non-null   datetime64[ns, UTC]\n",
            " 10  year               5017 non-null   int64              \n",
            " 11  Year               5017 non-null   int64              \n",
            " 12  Date               5017 non-null   int64              \n",
            " 13  Hour               5017 non-null   int64              \n",
            " 14  Month              5017 non-null   int64              \n",
            " 15  Day of Week        5017 non-null   object             \n",
            " 16  counter            5017 non-null   int64              \n",
            "dtypes: datetime64[ns, UTC](1), float64(6), int64(7), object(3)\n",
            "memory usage: 834.6+ KB\n"
          ]
        }
      ]
    },
    {
      "cell_type": "code",
      "source": [
        "df"
      ],
      "metadata": {
        "colab": {
          "base_uri": "https://localhost:8080/",
          "height": 696
        },
        "id": "5p-fKA3qMKQg",
        "outputId": "7179c516-82f2-4a5e-cb1e-3d6b035900c4"
      },
      "execution_count": null,
      "outputs": [
        {
          "output_type": "execute_result",
          "data": {
            "text/html": [
              "\n",
              "  <div id=\"df-5b94d901-a711-48a2-af63-8e53fc54ccf2\">\n",
              "    <div class=\"colab-df-container\">\n",
              "      <div>\n",
              "<style scoped>\n",
              "    .dataframe tbody tr th:only-of-type {\n",
              "        vertical-align: middle;\n",
              "    }\n",
              "\n",
              "    .dataframe tbody tr th {\n",
              "        vertical-align: top;\n",
              "    }\n",
              "\n",
              "    .dataframe thead th {\n",
              "        text-align: right;\n",
              "    }\n",
              "</style>\n",
              "<table border=\"1\" class=\"dataframe\">\n",
              "  <thead>\n",
              "    <tr style=\"text-align: right;\">\n",
              "      <th></th>\n",
              "      <th>id</th>\n",
              "      <th>key</th>\n",
              "      <th>fare_amount</th>\n",
              "      <th>pickup_datetime</th>\n",
              "      <th>pickup_longitude</th>\n",
              "      <th>pickup_latitude</th>\n",
              "      <th>dropoff_longitude</th>\n",
              "      <th>dropoff_latitude</th>\n",
              "      <th>passenger_count</th>\n",
              "      <th>Dates</th>\n",
              "      <th>year</th>\n",
              "      <th>Year</th>\n",
              "      <th>Date</th>\n",
              "      <th>Hour</th>\n",
              "      <th>Month</th>\n",
              "      <th>Day of Week</th>\n",
              "      <th>counter</th>\n",
              "    </tr>\n",
              "  </thead>\n",
              "  <tbody>\n",
              "    <tr>\n",
              "      <th>0</th>\n",
              "      <td>24238194</td>\n",
              "      <td>52:06.0</td>\n",
              "      <td>7.500000</td>\n",
              "      <td>2015-05-07 19:52:06+00:00</td>\n",
              "      <td>-73.999817</td>\n",
              "      <td>40.738354</td>\n",
              "      <td>-73.999512</td>\n",
              "      <td>40.723217</td>\n",
              "      <td>1.0</td>\n",
              "      <td>2015-05-07 19:52:06+00:00</td>\n",
              "      <td>2015</td>\n",
              "      <td>2015</td>\n",
              "      <td>7</td>\n",
              "      <td>19</td>\n",
              "      <td>5</td>\n",
              "      <td>Thu</td>\n",
              "      <td>1</td>\n",
              "    </tr>\n",
              "    <tr>\n",
              "      <th>1</th>\n",
              "      <td>27835199</td>\n",
              "      <td>04:56.0</td>\n",
              "      <td>7.700000</td>\n",
              "      <td>2009-07-17 20:04:56+00:00</td>\n",
              "      <td>-73.994355</td>\n",
              "      <td>40.728225</td>\n",
              "      <td>-73.994710</td>\n",
              "      <td>40.750325</td>\n",
              "      <td>1.0</td>\n",
              "      <td>2009-07-17 20:04:56+00:00</td>\n",
              "      <td>2009</td>\n",
              "      <td>2009</td>\n",
              "      <td>17</td>\n",
              "      <td>20</td>\n",
              "      <td>7</td>\n",
              "      <td>Fri</td>\n",
              "      <td>1</td>\n",
              "    </tr>\n",
              "    <tr>\n",
              "      <th>2</th>\n",
              "      <td>44984355</td>\n",
              "      <td>45:00.0</td>\n",
              "      <td>12.900000</td>\n",
              "      <td>2009-08-24 21:45:00+00:00</td>\n",
              "      <td>-74.005043</td>\n",
              "      <td>40.740770</td>\n",
              "      <td>-73.962565</td>\n",
              "      <td>40.772647</td>\n",
              "      <td>1.0</td>\n",
              "      <td>2009-08-24 21:45:00+00:00</td>\n",
              "      <td>2009</td>\n",
              "      <td>2009</td>\n",
              "      <td>24</td>\n",
              "      <td>21</td>\n",
              "      <td>8</td>\n",
              "      <td>Mon</td>\n",
              "      <td>1</td>\n",
              "    </tr>\n",
              "    <tr>\n",
              "      <th>3</th>\n",
              "      <td>25894730</td>\n",
              "      <td>22:21.0</td>\n",
              "      <td>5.300000</td>\n",
              "      <td>2009-06-26 08:22:21+00:00</td>\n",
              "      <td>-73.976124</td>\n",
              "      <td>40.790844</td>\n",
              "      <td>-73.965316</td>\n",
              "      <td>40.803349</td>\n",
              "      <td>3.0</td>\n",
              "      <td>2009-06-26 08:22:21+00:00</td>\n",
              "      <td>2009</td>\n",
              "      <td>2009</td>\n",
              "      <td>26</td>\n",
              "      <td>8</td>\n",
              "      <td>6</td>\n",
              "      <td>Fri</td>\n",
              "      <td>1</td>\n",
              "    </tr>\n",
              "    <tr>\n",
              "      <th>4</th>\n",
              "      <td>17610152</td>\n",
              "      <td>47:00.0</td>\n",
              "      <td>16.000000</td>\n",
              "      <td>2014-08-28 00:00:00</td>\n",
              "      <td>-73.925023</td>\n",
              "      <td>40.744085</td>\n",
              "      <td>-73.973082</td>\n",
              "      <td>40.761247</td>\n",
              "      <td>5.0</td>\n",
              "      <td>2014-08-28 00:00:00+00:00</td>\n",
              "      <td>2014</td>\n",
              "      <td>2014</td>\n",
              "      <td>28</td>\n",
              "      <td>0</td>\n",
              "      <td>8</td>\n",
              "      <td>Thu</td>\n",
              "      <td>1</td>\n",
              "    </tr>\n",
              "    <tr>\n",
              "      <th>...</th>\n",
              "      <td>...</td>\n",
              "      <td>...</td>\n",
              "      <td>...</td>\n",
              "      <td>...</td>\n",
              "      <td>...</td>\n",
              "      <td>...</td>\n",
              "      <td>...</td>\n",
              "      <td>...</td>\n",
              "      <td>...</td>\n",
              "      <td>...</td>\n",
              "      <td>...</td>\n",
              "      <td>...</td>\n",
              "      <td>...</td>\n",
              "      <td>...</td>\n",
              "      <td>...</td>\n",
              "      <td>...</td>\n",
              "      <td>...</td>\n",
              "    </tr>\n",
              "    <tr>\n",
              "      <th>5023</th>\n",
              "      <td>49621474</td>\n",
              "      <td>43:40.0</td>\n",
              "      <td>7.500000</td>\n",
              "      <td>2015-01-31 17:43:40+00:00</td>\n",
              "      <td>-73.994904</td>\n",
              "      <td>40.740021</td>\n",
              "      <td>-73.997673</td>\n",
              "      <td>40.725864</td>\n",
              "      <td>1.0</td>\n",
              "      <td>2015-01-31 17:43:40+00:00</td>\n",
              "      <td>2015</td>\n",
              "      <td>2015</td>\n",
              "      <td>31</td>\n",
              "      <td>17</td>\n",
              "      <td>1</td>\n",
              "      <td>Sat</td>\n",
              "      <td>1</td>\n",
              "    </tr>\n",
              "    <tr>\n",
              "      <th>5024</th>\n",
              "      <td>2551118</td>\n",
              "      <td>12:00.0</td>\n",
              "      <td>3.500000</td>\n",
              "      <td>2013-01-26 15:12:00+00:00</td>\n",
              "      <td>-73.992997</td>\n",
              "      <td>40.727910</td>\n",
              "      <td>-73.994160</td>\n",
              "      <td>40.732217</td>\n",
              "      <td>1.0</td>\n",
              "      <td>2013-01-26 15:12:00+00:00</td>\n",
              "      <td>2013</td>\n",
              "      <td>2013</td>\n",
              "      <td>26</td>\n",
              "      <td>15</td>\n",
              "      <td>1</td>\n",
              "      <td>Sat</td>\n",
              "      <td>1</td>\n",
              "    </tr>\n",
              "    <tr>\n",
              "      <th>5025</th>\n",
              "      <td>2003470</td>\n",
              "      <td>13:47.0</td>\n",
              "      <td>9.000000</td>\n",
              "      <td>2013-02-23 00:13:47+00:00</td>\n",
              "      <td>-73.982334</td>\n",
              "      <td>40.727795</td>\n",
              "      <td>-74.006374</td>\n",
              "      <td>40.731786</td>\n",
              "      <td>1.0</td>\n",
              "      <td>2013-02-23 00:13:47+00:00</td>\n",
              "      <td>2013</td>\n",
              "      <td>2013</td>\n",
              "      <td>23</td>\n",
              "      <td>0</td>\n",
              "      <td>2</td>\n",
              "      <td>Sat</td>\n",
              "      <td>1</td>\n",
              "    </tr>\n",
              "    <tr>\n",
              "      <th>5026</th>\n",
              "      <td>34334407</td>\n",
              "      <td>16:09.0</td>\n",
              "      <td>33.500000</td>\n",
              "      <td>2015-05-16 20:16:09+00:00</td>\n",
              "      <td>-73.970421</td>\n",
              "      <td>40.799053</td>\n",
              "      <td>-73.994682</td>\n",
              "      <td>40.718868</td>\n",
              "      <td>1.0</td>\n",
              "      <td>2015-05-16 20:16:09+00:00</td>\n",
              "      <td>2015</td>\n",
              "      <td>2015</td>\n",
              "      <td>16</td>\n",
              "      <td>20</td>\n",
              "      <td>5</td>\n",
              "      <td>Sat</td>\n",
              "      <td>1</td>\n",
              "    </tr>\n",
              "    <tr>\n",
              "      <th>5027</th>\n",
              "      <td>47247558</td>\n",
              "      <td>32:00.0</td>\n",
              "      <td>11.360277</td>\n",
              "      <td>2009-07-20 00:00:00</td>\n",
              "      <td>-73.975438</td>\n",
              "      <td>40.780233</td>\n",
              "      <td>-73.947638</td>\n",
              "      <td>40.775133</td>\n",
              "      <td>1.0</td>\n",
              "      <td>2009-07-20 00:00:00+00:00</td>\n",
              "      <td>2009</td>\n",
              "      <td>2009</td>\n",
              "      <td>20</td>\n",
              "      <td>0</td>\n",
              "      <td>7</td>\n",
              "      <td>Mon</td>\n",
              "      <td>1</td>\n",
              "    </tr>\n",
              "  </tbody>\n",
              "</table>\n",
              "<p>5017 rows × 17 columns</p>\n",
              "</div>\n",
              "      <button class=\"colab-df-convert\" onclick=\"convertToInteractive('df-5b94d901-a711-48a2-af63-8e53fc54ccf2')\"\n",
              "              title=\"Convert this dataframe to an interactive table.\"\n",
              "              style=\"display:none;\">\n",
              "        \n",
              "  <svg xmlns=\"http://www.w3.org/2000/svg\" height=\"24px\"viewBox=\"0 0 24 24\"\n",
              "       width=\"24px\">\n",
              "    <path d=\"M0 0h24v24H0V0z\" fill=\"none\"/>\n",
              "    <path d=\"M18.56 5.44l.94 2.06.94-2.06 2.06-.94-2.06-.94-.94-2.06-.94 2.06-2.06.94zm-11 1L8.5 8.5l.94-2.06 2.06-.94-2.06-.94L8.5 2.5l-.94 2.06-2.06.94zm10 10l.94 2.06.94-2.06 2.06-.94-2.06-.94-.94-2.06-.94 2.06-2.06.94z\"/><path d=\"M17.41 7.96l-1.37-1.37c-.4-.4-.92-.59-1.43-.59-.52 0-1.04.2-1.43.59L10.3 9.45l-7.72 7.72c-.78.78-.78 2.05 0 2.83L4 21.41c.39.39.9.59 1.41.59.51 0 1.02-.2 1.41-.59l7.78-7.78 2.81-2.81c.8-.78.8-2.07 0-2.86zM5.41 20L4 18.59l7.72-7.72 1.47 1.35L5.41 20z\"/>\n",
              "  </svg>\n",
              "      </button>\n",
              "      \n",
              "  <style>\n",
              "    .colab-df-container {\n",
              "      display:flex;\n",
              "      flex-wrap:wrap;\n",
              "      gap: 12px;\n",
              "    }\n",
              "\n",
              "    .colab-df-convert {\n",
              "      background-color: #E8F0FE;\n",
              "      border: none;\n",
              "      border-radius: 50%;\n",
              "      cursor: pointer;\n",
              "      display: none;\n",
              "      fill: #1967D2;\n",
              "      height: 32px;\n",
              "      padding: 0 0 0 0;\n",
              "      width: 32px;\n",
              "    }\n",
              "\n",
              "    .colab-df-convert:hover {\n",
              "      background-color: #E2EBFA;\n",
              "      box-shadow: 0px 1px 2px rgba(60, 64, 67, 0.3), 0px 1px 3px 1px rgba(60, 64, 67, 0.15);\n",
              "      fill: #174EA6;\n",
              "    }\n",
              "\n",
              "    [theme=dark] .colab-df-convert {\n",
              "      background-color: #3B4455;\n",
              "      fill: #D2E3FC;\n",
              "    }\n",
              "\n",
              "    [theme=dark] .colab-df-convert:hover {\n",
              "      background-color: #434B5C;\n",
              "      box-shadow: 0px 1px 3px 1px rgba(0, 0, 0, 0.15);\n",
              "      filter: drop-shadow(0px 1px 2px rgba(0, 0, 0, 0.3));\n",
              "      fill: #FFFFFF;\n",
              "    }\n",
              "  </style>\n",
              "\n",
              "      <script>\n",
              "        const buttonEl =\n",
              "          document.querySelector('#df-5b94d901-a711-48a2-af63-8e53fc54ccf2 button.colab-df-convert');\n",
              "        buttonEl.style.display =\n",
              "          google.colab.kernel.accessAllowed ? 'block' : 'none';\n",
              "\n",
              "        async function convertToInteractive(key) {\n",
              "          const element = document.querySelector('#df-5b94d901-a711-48a2-af63-8e53fc54ccf2');\n",
              "          const dataTable =\n",
              "            await google.colab.kernel.invokeFunction('convertToInteractive',\n",
              "                                                     [key], {});\n",
              "          if (!dataTable) return;\n",
              "\n",
              "          const docLinkHtml = 'Like what you see? Visit the ' +\n",
              "            '<a target=\"_blank\" href=https://colab.research.google.com/notebooks/data_table.ipynb>data table notebook</a>'\n",
              "            + ' to learn more about interactive tables.';\n",
              "          element.innerHTML = '';\n",
              "          dataTable['output_type'] = 'display_data';\n",
              "          await google.colab.output.renderOutput(dataTable, element);\n",
              "          const docLink = document.createElement('div');\n",
              "          docLink.innerHTML = docLinkHtml;\n",
              "          element.appendChild(docLink);\n",
              "        }\n",
              "      </script>\n",
              "    </div>\n",
              "  </div>\n",
              "  "
            ],
            "text/plain": [
              "            id      key  fare_amount  ... Month  Day of Week  counter\n",
              "0     24238194  52:06.0     7.500000  ...     5          Thu        1\n",
              "1     27835199  04:56.0     7.700000  ...     7          Fri        1\n",
              "2     44984355  45:00.0    12.900000  ...     8          Mon        1\n",
              "3     25894730  22:21.0     5.300000  ...     6          Fri        1\n",
              "4     17610152  47:00.0    16.000000  ...     8          Thu        1\n",
              "...        ...      ...          ...  ...   ...          ...      ...\n",
              "5023  49621474  43:40.0     7.500000  ...     1          Sat        1\n",
              "5024   2551118  12:00.0     3.500000  ...     1          Sat        1\n",
              "5025   2003470  13:47.0     9.000000  ...     2          Sat        1\n",
              "5026  34334407  16:09.0    33.500000  ...     5          Sat        1\n",
              "5027  47247558  32:00.0    11.360277  ...     7          Mon        1\n",
              "\n",
              "[5017 rows x 17 columns]"
            ]
          },
          "metadata": {},
          "execution_count": 45
        }
      ]
    },
    {
      "cell_type": "code",
      "source": [
        "import numpy as np\n",
        "import pandas as pd\n",
        "import matplotlib.pyplot as plt\n",
        "import seaborn as sns\n",
        "from plotly.offline import  plot, iplot"
      ],
      "metadata": {
        "id": "E6VLCUdYMPAg"
      },
      "execution_count": null,
      "outputs": []
    },
    {
      "cell_type": "code",
      "source": [
        "plt.figure(figsize=(10,8))\n",
        "sns.histplot(df['Day of Week'])\n",
        "plt.ylabel('Trip Count')\n",
        "plt.title('Day vs Trip count')\n",
        "plt.show()\n",
        "\n",
        "#Conclusions-\n",
        "#here we can see that that business scales up on Friday.\n",
        "# Total Fares go down at start of week"
      ],
      "metadata": {
        "colab": {
          "base_uri": "https://localhost:8080/",
          "height": 513
        },
        "id": "9zqJFpyUNA7M",
        "outputId": "c83cc37d-b59e-4b72-b80d-1e245b0d6c31"
      },
      "execution_count": null,
      "outputs": [
        {
          "output_type": "display_data",
          "data": {
            "image/png": "[encoded data removed]",
            "text/plain": [
              "<Figure size 720x576 with 1 Axes>"
            ]
          },
          "metadata": {
            "needs_background": "light"
          }
        }
      ]
    },
    {
      "cell_type": "code",
      "source": [
        "plt.figure(figsize=(12,20))\n",
        "plt.title('Month vs fare amount')\n",
        "sns.barplot(x=df['Month'],y=df['fare_amount'])\n",
        "plt.xlabel('Month')\n",
        "plt.ylabel('fare amount')\n",
        "plt.show()"
      ],
      "metadata": {
        "colab": {
          "base_uri": "https://localhost:8080/",
          "height": 1000
        },
        "id": "7_9InPLuN7Ae",
        "outputId": "1b86f1e5-e4a5-442f-9d16-18f41eba5f4b"
      },
      "execution_count": null,
      "outputs": [
        {
          "output_type": "display_data",
          "data": {
            "image/png": "[encoded data removed]",
            "text/plain": [
              "<Figure size 864x1440 with 1 Axes>"
            ]
          },
          "metadata": {
            "needs_background": "light"
          }
        }
      ]
    },
    {
      "cell_type": "code",
      "source": [
        "plt.title('year vs fare amount')\n",
        "sns.barplot(x=df['Year'],y=df['fare_amount'])\n",
        "plt.xlabel('Year')\n",
        "plt.ylabel('Average fare amount')\n",
        "plt.show()\n",
        "\n",
        "#This graph shows average for amount for every year\n",
        "#For year 2014 we see that average of Fare amount was highest \n",
        "# so we can say that 2014 had highest scale among each year"
      ],
      "metadata": {
        "colab": {
          "base_uri": "https://localhost:8080/",
          "height": 295
        },
        "id": "m6O3cjPpPrPV",
        "outputId": "00e77289-c512-4dbc-91e0-f0b52ab12f94"
      },
      "execution_count": null,
      "outputs": [
        {
          "output_type": "display_data",
          "data": {
            "image/png": "[encoded data removed]",
            "text/plain": [
              "<Figure size 432x288 with 1 Axes>"
            ]
          },
          "metadata": {
            "needs_background": "light"
          }
        }
      ]
    },
    {
      "cell_type": "code",
      "source": [
        "y=np.array(df['Year'].value_counts(ascending=True))\n",
        "print(y)"
      ],
      "metadata": {
        "colab": {
          "base_uri": "https://localhost:8080/"
        },
        "id": "Hkzgik6VQz2v",
        "outputId": "9707a416-89a1-4713-8781-939582ba4cb3"
      },
      "execution_count": null,
      "outputs": [
        {
          "output_type": "stream",
          "name": "stdout",
          "text": [
            "[373 703 732 760 796 803 850]\n"
          ]
        }
      ]
    },
    {
      "cell_type": "code",
      "source": [
        "mylabel=['2012','2009','2011','2013','2010','2014','2015']\n",
        "plt.pie(y,autopct='%1.1f%%',labels=mylabel)\n",
        "plt.show()"
      ],
      "metadata": {
        "colab": {
          "base_uri": "https://localhost:8080/",
          "height": 248
        },
        "id": "AcAL_n1SUE-F",
        "outputId": "89c00769-5279-4ebf-f2f6-61fe5ed00ec9"
      },
      "execution_count": null,
      "outputs": [
        {
          "output_type": "display_data",
          "data": {
            "image/png": "[encoded data removed]",
            "text/plain": [
              "<Figure size 432x288 with 1 Axes>"
            ]
          },
          "metadata": {}
        }
      ]
    },
    {
      "cell_type": "code",
      "source": [
        "df.info()"
      ],
      "metadata": {
        "colab": {
          "base_uri": "https://localhost:8080/"
        },
        "id": "5uv3bDZOUReN",
        "outputId": "a8e75047-a753-4528-f8ac-e85b137a0eee"
      },
      "execution_count": null,
      "outputs": [
        {
          "output_type": "stream",
          "name": "stdout",
          "text": [
            "<class 'pandas.core.frame.DataFrame'>\n",
            "Int64Index: 5017 entries, 0 to 5027\n",
            "Data columns (total 17 columns):\n",
            " #   Column             Non-Null Count  Dtype              \n",
            "---  ------             --------------  -----              \n",
            " 0   id                 5017 non-null   int64              \n",
            " 1   key                5017 non-null   object             \n",
            " 2   fare_amount        5017 non-null   float64            \n",
            " 3   pickup_datetime    5017 non-null   object             \n",
            " 4   pickup_longitude   5017 non-null   float64            \n",
            " 5   pickup_latitude    5017 non-null   float64            \n",
            " 6   dropoff_longitude  5017 non-null   float64            \n",
            " 7   dropoff_latitude   5017 non-null   float64            \n",
            " 8   passenger_count    5017 non-null   float64            \n",
            " 9   Dates              5017 non-null   datetime64[ns, UTC]\n",
            " 10  year               5017 non-null   int64              \n",
            " 11  Year               5017 non-null   int64              \n",
            " 12  Date               5017 non-null   int64              \n",
            " 13  Hour               5017 non-null   int64              \n",
            " 14  Month              5017 non-null   int64              \n",
            " 15  Day of Week        5017 non-null   object             \n",
            " 16  counter            5017 non-null   int64              \n",
            "dtypes: datetime64[ns, UTC](1), float64(6), int64(7), object(3)\n",
            "memory usage: 834.6+ KB\n"
          ]
        }
      ]
    },
    {
      "cell_type": "code",
      "source": [
        "month_wise_trip = df.groupby(['Year','Month']).agg( \n",
        "    no_of_trips = ('counter','count'),\n",
        "    Total_fair = ('fare_amount','sum')).reset_index()\n",
        "month_wise_trip\n"
      ],
      "metadata": {
        "colab": {
          "base_uri": "https://localhost:8080/",
          "height": 423
        },
        "id": "3D4TRVAca-to",
        "outputId": "4df84811-574b-460f-8ad8-113a8fe75261"
      },
      "execution_count": null,
      "outputs": [
        {
          "output_type": "execute_result",
          "data": {
            "text/html": [
              "\n",
              "  <div id=\"df-a39cdb5f-9ecc-46c0-b12e-d19a76e5b3d8\">\n",
              "    <div class=\"colab-df-container\">\n",
              "      <div>\n",
              "<style scoped>\n",
              "    .dataframe tbody tr th:only-of-type {\n",
              "        vertical-align: middle;\n",
              "    }\n",
              "\n",
              "    .dataframe tbody tr th {\n",
              "        vertical-align: top;\n",
              "    }\n",
              "\n",
              "    .dataframe thead th {\n",
              "        text-align: right;\n",
              "    }\n",
              "</style>\n",
              "<table border=\"1\" class=\"dataframe\">\n",
              "  <thead>\n",
              "    <tr style=\"text-align: right;\">\n",
              "      <th></th>\n",
              "      <th>Year</th>\n",
              "      <th>Month</th>\n",
              "      <th>no_of_trips</th>\n",
              "      <th>Total_fair</th>\n",
              "    </tr>\n",
              "  </thead>\n",
              "  <tbody>\n",
              "    <tr>\n",
              "      <th>0</th>\n",
              "      <td>2009</td>\n",
              "      <td>1</td>\n",
              "      <td>61</td>\n",
              "      <td>624.900000</td>\n",
              "    </tr>\n",
              "    <tr>\n",
              "      <th>1</th>\n",
              "      <td>2009</td>\n",
              "      <td>2</td>\n",
              "      <td>60</td>\n",
              "      <td>507.700000</td>\n",
              "    </tr>\n",
              "    <tr>\n",
              "      <th>2</th>\n",
              "      <td>2009</td>\n",
              "      <td>3</td>\n",
              "      <td>74</td>\n",
              "      <td>669.508013</td>\n",
              "    </tr>\n",
              "    <tr>\n",
              "      <th>3</th>\n",
              "      <td>2009</td>\n",
              "      <td>4</td>\n",
              "      <td>63</td>\n",
              "      <td>570.200000</td>\n",
              "    </tr>\n",
              "    <tr>\n",
              "      <th>4</th>\n",
              "      <td>2009</td>\n",
              "      <td>5</td>\n",
              "      <td>65</td>\n",
              "      <td>628.700000</td>\n",
              "    </tr>\n",
              "    <tr>\n",
              "      <th>...</th>\n",
              "      <td>...</td>\n",
              "      <td>...</td>\n",
              "      <td>...</td>\n",
              "      <td>...</td>\n",
              "    </tr>\n",
              "    <tr>\n",
              "      <th>73</th>\n",
              "      <td>2015</td>\n",
              "      <td>2</td>\n",
              "      <td>69</td>\n",
              "      <td>788.580000</td>\n",
              "    </tr>\n",
              "    <tr>\n",
              "      <th>74</th>\n",
              "      <td>2015</td>\n",
              "      <td>3</td>\n",
              "      <td>56</td>\n",
              "      <td>638.910000</td>\n",
              "    </tr>\n",
              "    <tr>\n",
              "      <th>75</th>\n",
              "      <td>2015</td>\n",
              "      <td>4</td>\n",
              "      <td>69</td>\n",
              "      <td>761.040000</td>\n",
              "    </tr>\n",
              "    <tr>\n",
              "      <th>76</th>\n",
              "      <td>2015</td>\n",
              "      <td>5</td>\n",
              "      <td>74</td>\n",
              "      <td>834.540000</td>\n",
              "    </tr>\n",
              "    <tr>\n",
              "      <th>77</th>\n",
              "      <td>2015</td>\n",
              "      <td>6</td>\n",
              "      <td>51</td>\n",
              "      <td>819.740000</td>\n",
              "    </tr>\n",
              "  </tbody>\n",
              "</table>\n",
              "<p>78 rows × 4 columns</p>\n",
              "</div>\n",
              "      <button class=\"colab-df-convert\" onclick=\"convertToInteractive('df-a39cdb5f-9ecc-46c0-b12e-d19a76e5b3d8')\"\n",
              "              title=\"Convert this dataframe to an interactive table.\"\n",
              "              style=\"display:none;\">\n",
              "        \n",
              "  <svg xmlns=\"http://www.w3.org/2000/svg\" height=\"24px\"viewBox=\"0 0 24 24\"\n",
              "       width=\"24px\">\n",
              "    <path d=\"M0 0h24v24H0V0z\" fill=\"none\"/>\n",
              "    <path d=\"M18.56 5.44l.94 2.06.94-2.06 2.06-.94-2.06-.94-.94-2.06-.94 2.06-2.06.94zm-11 1L8.5 8.5l.94-2.06 2.06-.94-2.06-.94L8.5 2.5l-.94 2.06-2.06.94zm10 10l.94 2.06.94-2.06 2.06-.94-2.06-.94-.94-2.06-.94 2.06-2.06.94z\"/><path d=\"M17.41 7.96l-1.37-1.37c-.4-.4-.92-.59-1.43-.59-.52 0-1.04.2-1.43.59L10.3 9.45l-7.72 7.72c-.78.78-.78 2.05 0 2.83L4 21.41c.39.39.9.59 1.41.59.51 0 1.02-.2 1.41-.59l7.78-7.78 2.81-2.81c.8-.78.8-2.07 0-2.86zM5.41 20L4 18.59l7.72-7.72 1.47 1.35L5.41 20z\"/>\n",
              "  </svg>\n",
              "      </button>\n",
              "      \n",
              "  <style>\n",
              "    .colab-df-container {\n",
              "      display:flex;\n",
              "      flex-wrap:wrap;\n",
              "      gap: 12px;\n",
              "    }\n",
              "\n",
              "    .colab-df-convert {\n",
              "      background-color: #E8F0FE;\n",
              "      border: none;\n",
              "      border-radius: 50%;\n",
              "      cursor: pointer;\n",
              "      display: none;\n",
              "      fill: #1967D2;\n",
              "      height: 32px;\n",
              "      padding: 0 0 0 0;\n",
              "      width: 32px;\n",
              "    }\n",
              "\n",
              "    .colab-df-convert:hover {\n",
              "      background-color: #E2EBFA;\n",
              "      box-shadow: 0px 1px 2px rgba(60, 64, 67, 0.3), 0px 1px 3px 1px rgba(60, 64, 67, 0.15);\n",
              "      fill: #174EA6;\n",
              "    }\n",
              "\n",
              "    [theme=dark] .colab-df-convert {\n",
              "      background-color: #3B4455;\n",
              "      fill: #D2E3FC;\n",
              "    }\n",
              "\n",
              "    [theme=dark] .colab-df-convert:hover {\n",
              "      background-color: #434B5C;\n",
              "      box-shadow: 0px 1px 3px 1px rgba(0, 0, 0, 0.15);\n",
              "      filter: drop-shadow(0px 1px 2px rgba(0, 0, 0, 0.3));\n",
              "      fill: #FFFFFF;\n",
              "    }\n",
              "  </style>\n",
              "\n",
              "      <script>\n",
              "        const buttonEl =\n",
              "          document.querySelector('#df-a39cdb5f-9ecc-46c0-b12e-d19a76e5b3d8 button.colab-df-convert');\n",
              "        buttonEl.style.display =\n",
              "          google.colab.kernel.accessAllowed ? 'block' : 'none';\n",
              "\n",
              "        async function convertToInteractive(key) {\n",
              "          const element = document.querySelector('#df-a39cdb5f-9ecc-46c0-b12e-d19a76e5b3d8');\n",
              "          const dataTable =\n",
              "            await google.colab.kernel.invokeFunction('convertToInteractive',\n",
              "                                                     [key], {});\n",
              "          if (!dataTable) return;\n",
              "\n",
              "          const docLinkHtml = 'Like what you see? Visit the ' +\n",
              "            '<a target=\"_blank\" href=https://colab.research.google.com/notebooks/data_table.ipynb>data table notebook</a>'\n",
              "            + ' to learn more about interactive tables.';\n",
              "          element.innerHTML = '';\n",
              "          dataTable['output_type'] = 'display_data';\n",
              "          await google.colab.output.renderOutput(dataTable, element);\n",
              "          const docLink = document.createElement('div');\n",
              "          docLink.innerHTML = docLinkHtml;\n",
              "          element.appendChild(docLink);\n",
              "        }\n",
              "      </script>\n",
              "    </div>\n",
              "  </div>\n",
              "  "
            ],
            "text/plain": [
              "    Year  Month  no_of_trips  Total_fair\n",
              "0   2009      1           61  624.900000\n",
              "1   2009      2           60  507.700000\n",
              "2   2009      3           74  669.508013\n",
              "3   2009      4           63  570.200000\n",
              "4   2009      5           65  628.700000\n",
              "..   ...    ...          ...         ...\n",
              "73  2015      2           69  788.580000\n",
              "74  2015      3           56  638.910000\n",
              "75  2015      4           69  761.040000\n",
              "76  2015      5           74  834.540000\n",
              "77  2015      6           51  819.740000\n",
              "\n",
              "[78 rows x 4 columns]"
            ]
          },
          "metadata": {},
          "execution_count": 174
        }
      ]
    },
    {
      "cell_type": "code",
      "source": [
        "y_of_2009=month_wise_trip[month_wise_trip['Year']==2009]\n",
        "y_of_2009\n"
      ],
      "metadata": {
        "colab": {
          "base_uri": "https://localhost:8080/",
          "height": 426
        },
        "id": "_7Fo0GUBn9Bu",
        "outputId": "80216dc1-efd0-4b35-b434-34467d54d5e8"
      },
      "execution_count": null,
      "outputs": [
        {
          "output_type": "execute_result",
          "data": {
            "text/html": [
              "\n",
              "  <div id=\"df-83cc4c39-1d3e-47b9-a153-fe991a50738e\">\n",
              "    <div class=\"colab-df-container\">\n",
              "      <div>\n",
              "<style scoped>\n",
              "    .dataframe tbody tr th:only-of-type {\n",
              "        vertical-align: middle;\n",
              "    }\n",
              "\n",
              "    .dataframe tbody tr th {\n",
              "        vertical-align: top;\n",
              "    }\n",
              "\n",
              "    .dataframe thead th {\n",
              "        text-align: right;\n",
              "    }\n",
              "</style>\n",
              "<table border=\"1\" class=\"dataframe\">\n",
              "  <thead>\n",
              "    <tr style=\"text-align: right;\">\n",
              "      <th></th>\n",
              "      <th>Year</th>\n",
              "      <th>Month</th>\n",
              "      <th>no_of_trips</th>\n",
              "      <th>Total_fair</th>\n",
              "    </tr>\n",
              "  </thead>\n",
              "  <tbody>\n",
              "    <tr>\n",
              "      <th>0</th>\n",
              "      <td>2009</td>\n",
              "      <td>1</td>\n",
              "      <td>61</td>\n",
              "      <td>624.900000</td>\n",
              "    </tr>\n",
              "    <tr>\n",
              "      <th>1</th>\n",
              "      <td>2009</td>\n",
              "      <td>2</td>\n",
              "      <td>60</td>\n",
              "      <td>507.700000</td>\n",
              "    </tr>\n",
              "    <tr>\n",
              "      <th>2</th>\n",
              "      <td>2009</td>\n",
              "      <td>3</td>\n",
              "      <td>74</td>\n",
              "      <td>669.508013</td>\n",
              "    </tr>\n",
              "    <tr>\n",
              "      <th>3</th>\n",
              "      <td>2009</td>\n",
              "      <td>4</td>\n",
              "      <td>63</td>\n",
              "      <td>570.200000</td>\n",
              "    </tr>\n",
              "    <tr>\n",
              "      <th>4</th>\n",
              "      <td>2009</td>\n",
              "      <td>5</td>\n",
              "      <td>65</td>\n",
              "      <td>628.700000</td>\n",
              "    </tr>\n",
              "    <tr>\n",
              "      <th>5</th>\n",
              "      <td>2009</td>\n",
              "      <td>6</td>\n",
              "      <td>59</td>\n",
              "      <td>582.850000</td>\n",
              "    </tr>\n",
              "    <tr>\n",
              "      <th>6</th>\n",
              "      <td>2009</td>\n",
              "      <td>7</td>\n",
              "      <td>64</td>\n",
              "      <td>698.560277</td>\n",
              "    </tr>\n",
              "    <tr>\n",
              "      <th>7</th>\n",
              "      <td>2009</td>\n",
              "      <td>8</td>\n",
              "      <td>77</td>\n",
              "      <td>761.440000</td>\n",
              "    </tr>\n",
              "    <tr>\n",
              "      <th>8</th>\n",
              "      <td>2009</td>\n",
              "      <td>9</td>\n",
              "      <td>75</td>\n",
              "      <td>737.370000</td>\n",
              "    </tr>\n",
              "    <tr>\n",
              "      <th>9</th>\n",
              "      <td>2009</td>\n",
              "      <td>10</td>\n",
              "      <td>71</td>\n",
              "      <td>646.470000</td>\n",
              "    </tr>\n",
              "    <tr>\n",
              "      <th>10</th>\n",
              "      <td>2009</td>\n",
              "      <td>11</td>\n",
              "      <td>62</td>\n",
              "      <td>674.180000</td>\n",
              "    </tr>\n",
              "    <tr>\n",
              "      <th>11</th>\n",
              "      <td>2009</td>\n",
              "      <td>12</td>\n",
              "      <td>72</td>\n",
              "      <td>763.740000</td>\n",
              "    </tr>\n",
              "  </tbody>\n",
              "</table>\n",
              "</div>\n",
              "      <button class=\"colab-df-convert\" onclick=\"convertToInteractive('df-83cc4c39-1d3e-47b9-a153-fe991a50738e')\"\n",
              "              title=\"Convert this dataframe to an interactive table.\"\n",
              "              style=\"display:none;\">\n",
              "        \n",
              "  <svg xmlns=\"http://www.w3.org/2000/svg\" height=\"24px\"viewBox=\"0 0 24 24\"\n",
              "       width=\"24px\">\n",
              "    <path d=\"M0 0h24v24H0V0z\" fill=\"none\"/>\n",
              "    <path d=\"M18.56 5.44l.94 2.06.94-2.06 2.06-.94-2.06-.94-.94-2.06-.94 2.06-2.06.94zm-11 1L8.5 8.5l.94-2.06 2.06-.94-2.06-.94L8.5 2.5l-.94 2.06-2.06.94zm10 10l.94 2.06.94-2.06 2.06-.94-2.06-.94-.94-2.06-.94 2.06-2.06.94z\"/><path d=\"M17.41 7.96l-1.37-1.37c-.4-.4-.92-.59-1.43-.59-.52 0-1.04.2-1.43.59L10.3 9.45l-7.72 7.72c-.78.78-.78 2.05 0 2.83L4 21.41c.39.39.9.59 1.41.59.51 0 1.02-.2 1.41-.59l7.78-7.78 2.81-2.81c.8-.78.8-2.07 0-2.86zM5.41 20L4 18.59l7.72-7.72 1.47 1.35L5.41 20z\"/>\n",
              "  </svg>\n",
              "      </button>\n",
              "      \n",
              "  <style>\n",
              "    .colab-df-container {\n",
              "      display:flex;\n",
              "      flex-wrap:wrap;\n",
              "      gap: 12px;\n",
              "    }\n",
              "\n",
              "    .colab-df-convert {\n",
              "      background-color: #E8F0FE;\n",
              "      border: none;\n",
              "      border-radius: 50%;\n",
              "      cursor: pointer;\n",
              "      display: none;\n",
              "      fill: #1967D2;\n",
              "      height: 32px;\n",
              "      padding: 0 0 0 0;\n",
              "      width: 32px;\n",
              "    }\n",
              "\n",
              "    .colab-df-convert:hover {\n",
              "      background-color: #E2EBFA;\n",
              "      box-shadow: 0px 1px 2px rgba(60, 64, 67, 0.3), 0px 1px 3px 1px rgba(60, 64, 67, 0.15);\n",
              "      fill: #174EA6;\n",
              "    }\n",
              "\n",
              "    [theme=dark] .colab-df-convert {\n",
              "      background-color: #3B4455;\n",
              "      fill: #D2E3FC;\n",
              "    }\n",
              "\n",
              "    [theme=dark] .colab-df-convert:hover {\n",
              "      background-color: #434B5C;\n",
              "      box-shadow: 0px 1px 3px 1px rgba(0, 0, 0, 0.15);\n",
              "      filter: drop-shadow(0px 1px 2px rgba(0, 0, 0, 0.3));\n",
              "      fill: #FFFFFF;\n",
              "    }\n",
              "  </style>\n",
              "\n",
              "      <script>\n",
              "        const buttonEl =\n",
              "          document.querySelector('#df-83cc4c39-1d3e-47b9-a153-fe991a50738e button.colab-df-convert');\n",
              "        buttonEl.style.display =\n",
              "          google.colab.kernel.accessAllowed ? 'block' : 'none';\n",
              "\n",
              "        async function convertToInteractive(key) {\n",
              "          const element = document.querySelector('#df-83cc4c39-1d3e-47b9-a153-fe991a50738e');\n",
              "          const dataTable =\n",
              "            await google.colab.kernel.invokeFunction('convertToInteractive',\n",
              "                                                     [key], {});\n",
              "          if (!dataTable) return;\n",
              "\n",
              "          const docLinkHtml = 'Like what you see? Visit the ' +\n",
              "            '<a target=\"_blank\" href=https://colab.research.google.com/notebooks/data_table.ipynb>data table notebook</a>'\n",
              "            + ' to learn more about interactive tables.';\n",
              "          element.innerHTML = '';\n",
              "          dataTable['output_type'] = 'display_data';\n",
              "          await google.colab.output.renderOutput(dataTable, element);\n",
              "          const docLink = document.createElement('div');\n",
              "          docLink.innerHTML = docLinkHtml;\n",
              "          element.appendChild(docLink);\n",
              "        }\n",
              "      </script>\n",
              "    </div>\n",
              "  </div>\n",
              "  "
            ],
            "text/plain": [
              "    Year  Month  no_of_trips  Total_fair\n",
              "0   2009      1           61  624.900000\n",
              "1   2009      2           60  507.700000\n",
              "2   2009      3           74  669.508013\n",
              "3   2009      4           63  570.200000\n",
              "4   2009      5           65  628.700000\n",
              "5   2009      6           59  582.850000\n",
              "6   2009      7           64  698.560277\n",
              "7   2009      8           77  761.440000\n",
              "8   2009      9           75  737.370000\n",
              "9   2009     10           71  646.470000\n",
              "10  2009     11           62  674.180000\n",
              "11  2009     12           72  763.740000"
            ]
          },
          "metadata": {},
          "execution_count": 175
        }
      ]
    },
    {
      "cell_type": "code",
      "source": [
        "x1=y_of_2009['Month']\n",
        "y1=y_of_2009['no_of_trips']\n",
        "plt.bar(x1,y1)\n",
        "plt.xlabel(\"Months\")\n",
        "plt.ylabel(\"Customers Per Month\")\n",
        "plt.title(\"2009 Year\")\n",
        "plt.show()"
      ],
      "metadata": {
        "colab": {
          "base_uri": "https://localhost:8080/",
          "height": 295
        },
        "id": "QCw78BCbtoEk",
        "outputId": "36dccabb-4d25-4e8e-8adc-704137899316"
      },
      "execution_count": null,
      "outputs": [
        {
          "output_type": "display_data",
          "data": {
            "image/png": "[encoded data removed]",
            "text/plain": [
              "<Figure size 432x288 with 1 Axes>"
            ]
          },
          "metadata": {
            "needs_background": "light"
          }
        }
      ]
    },
    {
      "cell_type": "code",
      "source": [
        "x2=y_of_2009['no_of_trips']\n",
        "y2=y_of_2009['Total_fair']\n",
        "\n",
        "plt.scatter(x2, y2)\n",
        "plt.show()"
      ],
      "metadata": {
        "colab": {
          "base_uri": "https://localhost:8080/",
          "height": 265
        },
        "id": "QJIrv5TQyrTo",
        "outputId": "19d46eca-5c93-4378-c137-cdb375b7beac"
      },
      "execution_count": null,
      "outputs": [
        {
          "output_type": "display_data",
          "data": {
            "image/png": "[encoded data removed]",
            "text/plain": [
              "<Figure size 432x288 with 1 Axes>"
            ]
          },
          "metadata": {
            "needs_background": "light"
          }
        }
      ]
    },
    {
      "cell_type": "code",
      "source": [
        "sns.heatmap(y_of_2009.corr(),annot=True)\n",
        "\n",
        "#A strong correlation is observed for no_of Trips and Total fair for year 2009"
      ],
      "metadata": {
        "colab": {
          "base_uri": "https://localhost:8080/",
          "height": 287
        },
        "id": "iW9qbQ2MzgCR",
        "outputId": "f750eae8-d5bc-4bc7-e63e-37b74321ba1d"
      },
      "execution_count": null,
      "outputs": [
        {
          "output_type": "execute_result",
          "data": {
            "text/plain": [
              "<matplotlib.axes._subplots.AxesSubplot at 0x7f88c2829090>"
            ]
          },
          "metadata": {},
          "execution_count": 178
        },
        {
          "output_type": "display_data",
          "data": {
            "image/png": "[encoded data removed]",
            "text/plain": [
              "<Figure size 432x288 with 2 Axes>"
            ]
          },
          "metadata": {
            "needs_background": "light"
          }
        }
      ]
    },
    {
      "cell_type": "code",
      "source": [
        "sns.heatmap(month_wise_trip.corr(),annot=True)"
      ],
      "metadata": {
        "colab": {
          "base_uri": "https://localhost:8080/",
          "height": 287
        },
        "id": "S-xyFQuq4jds",
        "outputId": "ecaf36ad-edef-4173-f40a-3c6ca59ebd5c"
      },
      "execution_count": null,
      "outputs": [
        {
          "output_type": "execute_result",
          "data": {
            "text/plain": [
              "<matplotlib.axes._subplots.AxesSubplot at 0x7f88bff48e90>"
            ]
          },
          "metadata": {},
          "execution_count": 179
        },
        {
          "output_type": "display_data",
          "data": {
            "image/png": "[encoded data removed]",
            "text/plain": [
              "<Figure size 432x288 with 2 Axes>"
            ]
          },
          "metadata": {
            "needs_background": "light"
          }
        }
      ]
    },
    {
      "cell_type": "code",
      "source": [
        "sns.boxplot(df['fare_amount'])"
      ],
      "metadata": {
        "colab": {
          "base_uri": "https://localhost:8080/",
          "height": 386
        },
        "id": "D0gwdfST48l6",
        "outputId": "1e07b5d3-a978-4ae9-88a7-a47b094ccd94"
      },
      "execution_count": null,
      "outputs": [
        {
          "output_type": "stream",
          "name": "stderr",
          "text": [
            "/usr/local/lib/python3.7/dist-packages/seaborn/_decorators.py:43: FutureWarning:\n",
            "\n",
            "Pass the following variable as a keyword arg: x. From version 0.12, the only valid positional argument will be `data`, and passing other arguments without an explicit keyword will result in an error or misinterpretation.\n",
            "\n"
          ]
        },
        {
          "output_type": "execute_result",
          "data": {
            "text/plain": [
              "<matplotlib.axes._subplots.AxesSubplot at 0x7f88bfd09910>"
            ]
          },
          "metadata": {},
          "execution_count": 185
        },
        {
          "output_type": "display_data",
          "data": {
            "image/png": "[encoded data removed]",
            "text/plain": [
              "<Figure size 432x288 with 1 Axes>"
            ]
          },
          "metadata": {
            "needs_background": "light"
          }
        }
      ]
    },
    {
      "cell_type": "code",
      "source": [
        "sns.boxplot(y_of_2009['Total_fair'])"
      ],
      "metadata": {
        "colab": {
          "base_uri": "https://localhost:8080/",
          "height": 386
        },
        "id": "YXHuDfzk5gQe",
        "outputId": "f530bd75-5e71-4f4e-9a68-7c0185116e21"
      },
      "execution_count": null,
      "outputs": [
        {
          "output_type": "stream",
          "name": "stderr",
          "text": [
            "/usr/local/lib/python3.7/dist-packages/seaborn/_decorators.py:43: FutureWarning:\n",
            "\n",
            "Pass the following variable as a keyword arg: x. From version 0.12, the only valid positional argument will be `data`, and passing other arguments without an explicit keyword will result in an error or misinterpretation.\n",
            "\n"
          ]
        },
        {
          "output_type": "execute_result",
          "data": {
            "text/plain": [
              "<matplotlib.axes._subplots.AxesSubplot at 0x7f88bfcb44d0>"
            ]
          },
          "metadata": {},
          "execution_count": 186
        },
        {
          "output_type": "display_data",
          "data": {
            "image/png": "[encoded data removed]",
            "text/plain": [
              "<Figure size 432x288 with 1 Axes>"
            ]
          },
          "metadata": {
            "needs_background": "light"
          }
        }
      ]
    },
    {
      "cell_type": "code",
      "source": [
        "sns.boxplot(month_wise_trip['Total_fair'])"
      ],
      "metadata": {
        "colab": {
          "base_uri": "https://localhost:8080/",
          "height": 386
        },
        "id": "vslkCDqH6v-F",
        "outputId": "96acff8f-69bd-4bb8-fa42-7c14a9ae8633"
      },
      "execution_count": null,
      "outputs": [
        {
          "output_type": "stream",
          "name": "stderr",
          "text": [
            "/usr/local/lib/python3.7/dist-packages/seaborn/_decorators.py:43: FutureWarning:\n",
            "\n",
            "Pass the following variable as a keyword arg: x. From version 0.12, the only valid positional argument will be `data`, and passing other arguments without an explicit keyword will result in an error or misinterpretation.\n",
            "\n"
          ]
        },
        {
          "output_type": "execute_result",
          "data": {
            "text/plain": [
              "<matplotlib.axes._subplots.AxesSubplot at 0x7f88bfc9c5d0>"
            ]
          },
          "metadata": {},
          "execution_count": 188
        },
        {
          "output_type": "display_data",
          "data": {
            "image/png": "[encoded data removed]",
            "text/plain": [
              "<Figure size 432x288 with 1 Axes>"
            ]
          },
          "metadata": {
            "needs_background": "light"
          }
        }
      ]
    },
    {
      "cell_type": "code",
      "source": [
        "month_wise_trip['Total_fair'].describe()"
      ],
      "metadata": {
        "colab": {
          "base_uri": "https://localhost:8080/"
        },
        "id": "e_W-LBtD63yn",
        "outputId": "70276b02-7b7d-40d4-e696-7ca88c9ba0e7"
      },
      "execution_count": null,
      "outputs": [
        {
          "output_type": "execute_result",
          "data": {
            "text/plain": [
              "count      78.000000\n",
              "mean      730.844465\n",
              "std       147.668173\n",
              "min       478.410000\n",
              "25%       629.925000\n",
              "50%       722.240000\n",
              "75%       814.195000\n",
              "max      1153.810000\n",
              "Name: Total_fair, dtype: float64"
            ]
          },
          "metadata": {},
          "execution_count": 189
        }
      ]
    },
    {
      "cell_type": "code",
      "source": [
        "month_wise_trip['Total_fair'].quantile(.1)"
      ],
      "metadata": {
        "colab": {
          "base_uri": "https://localhost:8080/"
        },
        "id": "0GvuBnrs7OBr",
        "outputId": "2efc6a86-7cfa-4684-d506-d2fedbf8017a"
      },
      "execution_count": null,
      "outputs": [
        {
          "output_type": "execute_result",
          "data": {
            "text/plain": [
              "535.252"
            ]
          },
          "metadata": {},
          "execution_count": 192
        }
      ]
    },
    {
      "cell_type": "code",
      "source": [
        "plt.figure(figsize=(10,6))\n",
        "sns.heatmap(df.corr(),cmap=plt.cm.Reds,annot=True)\n",
        "plt.title('Heatmap displaying the relationship betweennthe features of the data',\n",
        "         fontsize=13)\n",
        "plt.show()"
      ],
      "metadata": {
        "colab": {
          "base_uri": "https://localhost:8080/",
          "height": 468
        },
        "id": "ZQczCAtS7uXD",
        "outputId": "a93b1d11-9f31-4111-b623-d98656cac221"
      },
      "execution_count": null,
      "outputs": [
        {
          "output_type": "display_data",
          "data": {
            "image/png": "[encoded data removed]",
            "text/plain": [
              "<Figure size 720x432 with 2 Axes>"
            ]
          },
          "metadata": {
            "needs_background": "light"
          }
        }
      ]
    },
    {
      "cell_type": "code",
      "source": [
        "df.columns\n",
        "month_wise_trip = df.groupby(['Year','Month']).agg( \n",
        "    no_of_trips = ('counter','count'),\n",
        "    Total_fair = ('fare_amount','sum')).reset_index()\n",
        "month_wise_trip\n"
      ],
      "metadata": {
        "colab": {
          "base_uri": "https://localhost:8080/"
        },
        "id": "-ASQiqqm-ZC0",
        "outputId": "628b9dba-2f7c-4837-839d-80ac8a87958a"
      },
      "execution_count": null,
      "outputs": [
        {
          "output_type": "execute_result",
          "data": {
            "text/plain": [
              "Index(['id', 'key', 'fare_amount', 'pickup_datetime', 'pickup_longitude',\n",
              "       'pickup_latitude', 'dropoff_longitude', 'dropoff_latitude',\n",
              "       'passenger_count', 'Dates', 'year', 'Year', 'Date', 'Hour', 'Month',\n",
              "       'Day of Week', 'counter'],\n",
              "      dtype='object')"
            ]
          },
          "metadata": {},
          "execution_count": 195
        }
      ]
    },
    {
      "cell_type": "code",
      "source": [
        "hour_wise_trip = df.groupby(['Hour','Day of Week',]).agg( \n",
        "    pass_count=('passenger_count','max'),\n",
        "    no_of_trips = ('counter','count'),\n",
        "    Total_fair = ('fare_amount','sum')).reset_index()\n",
        "hour_wise_trip"
      ],
      "metadata": {
        "colab": {
          "base_uri": "https://localhost:8080/",
          "height": 423
        },
        "id": "eo6SwFKZAu3Z",
        "outputId": "ada4adb2-ae70-4d57-b3c2-4ac5dc24bc82"
      },
      "execution_count": null,
      "outputs": [
        {
          "output_type": "execute_result",
          "data": {
            "text/html": [
              "\n",
              "  <div id=\"df-ac4d592b-24ee-4c44-9b9d-83798a3a56a5\">\n",
              "    <div class=\"colab-df-container\">\n",
              "      <div>\n",
              "<style scoped>\n",
              "    .dataframe tbody tr th:only-of-type {\n",
              "        vertical-align: middle;\n",
              "    }\n",
              "\n",
              "    .dataframe tbody tr th {\n",
              "        vertical-align: top;\n",
              "    }\n",
              "\n",
              "    .dataframe thead th {\n",
              "        text-align: right;\n",
              "    }\n",
              "</style>\n",
              "<table border=\"1\" class=\"dataframe\">\n",
              "  <thead>\n",
              "    <tr style=\"text-align: right;\">\n",
              "      <th></th>\n",
              "      <th>Hour</th>\n",
              "      <th>Day of Week</th>\n",
              "      <th>pass_count</th>\n",
              "      <th>no_of_trips</th>\n",
              "      <th>Total_fair</th>\n",
              "    </tr>\n",
              "  </thead>\n",
              "  <tbody>\n",
              "    <tr>\n",
              "      <th>0</th>\n",
              "      <td>0</td>\n",
              "      <td>Fri</td>\n",
              "      <td>6.0</td>\n",
              "      <td>36</td>\n",
              "      <td>491.600000</td>\n",
              "    </tr>\n",
              "    <tr>\n",
              "      <th>1</th>\n",
              "      <td>0</td>\n",
              "      <td>Mon</td>\n",
              "      <td>5.0</td>\n",
              "      <td>15</td>\n",
              "      <td>236.460277</td>\n",
              "    </tr>\n",
              "    <tr>\n",
              "      <th>2</th>\n",
              "      <td>0</td>\n",
              "      <td>Sat</td>\n",
              "      <td>6.0</td>\n",
              "      <td>51</td>\n",
              "      <td>499.000000</td>\n",
              "    </tr>\n",
              "    <tr>\n",
              "      <th>3</th>\n",
              "      <td>0</td>\n",
              "      <td>Sun</td>\n",
              "      <td>6.0</td>\n",
              "      <td>52</td>\n",
              "      <td>508.630000</td>\n",
              "    </tr>\n",
              "    <tr>\n",
              "      <th>4</th>\n",
              "      <td>0</td>\n",
              "      <td>Thu</td>\n",
              "      <td>5.0</td>\n",
              "      <td>28</td>\n",
              "      <td>337.100000</td>\n",
              "    </tr>\n",
              "    <tr>\n",
              "      <th>...</th>\n",
              "      <td>...</td>\n",
              "      <td>...</td>\n",
              "      <td>...</td>\n",
              "      <td>...</td>\n",
              "      <td>...</td>\n",
              "    </tr>\n",
              "    <tr>\n",
              "      <th>163</th>\n",
              "      <td>23</td>\n",
              "      <td>Sat</td>\n",
              "      <td>6.0</td>\n",
              "      <td>34</td>\n",
              "      <td>358.300000</td>\n",
              "    </tr>\n",
              "    <tr>\n",
              "      <th>164</th>\n",
              "      <td>23</td>\n",
              "      <td>Sun</td>\n",
              "      <td>3.0</td>\n",
              "      <td>27</td>\n",
              "      <td>325.330000</td>\n",
              "    </tr>\n",
              "    <tr>\n",
              "      <th>165</th>\n",
              "      <td>23</td>\n",
              "      <td>Thu</td>\n",
              "      <td>6.0</td>\n",
              "      <td>32</td>\n",
              "      <td>288.700000</td>\n",
              "    </tr>\n",
              "    <tr>\n",
              "      <th>166</th>\n",
              "      <td>23</td>\n",
              "      <td>Tue</td>\n",
              "      <td>5.0</td>\n",
              "      <td>35</td>\n",
              "      <td>340.170000</td>\n",
              "    </tr>\n",
              "    <tr>\n",
              "      <th>167</th>\n",
              "      <td>23</td>\n",
              "      <td>Wed</td>\n",
              "      <td>5.0</td>\n",
              "      <td>38</td>\n",
              "      <td>385.800000</td>\n",
              "    </tr>\n",
              "  </tbody>\n",
              "</table>\n",
              "<p>168 rows × 5 columns</p>\n",
              "</div>\n",
              "      <button class=\"colab-df-convert\" onclick=\"convertToInteractive('df-ac4d592b-24ee-4c44-9b9d-83798a3a56a5')\"\n",
              "              title=\"Convert this dataframe to an interactive table.\"\n",
              "              style=\"display:none;\">\n",
              "        \n",
              "  <svg xmlns=\"http://www.w3.org/2000/svg\" height=\"24px\"viewBox=\"0 0 24 24\"\n",
              "       width=\"24px\">\n",
              "    <path d=\"M0 0h24v24H0V0z\" fill=\"none\"/>\n",
              "    <path d=\"M18.56 5.44l.94 2.06.94-2.06 2.06-.94-2.06-.94-.94-2.06-.94 2.06-2.06.94zm-11 1L8.5 8.5l.94-2.06 2.06-.94-2.06-.94L8.5 2.5l-.94 2.06-2.06.94zm10 10l.94 2.06.94-2.06 2.06-.94-2.06-.94-.94-2.06-.94 2.06-2.06.94z\"/><path d=\"M17.41 7.96l-1.37-1.37c-.4-.4-.92-.59-1.43-.59-.52 0-1.04.2-1.43.59L10.3 9.45l-7.72 7.72c-.78.78-.78 2.05 0 2.83L4 21.41c.39.39.9.59 1.41.59.51 0 1.02-.2 1.41-.59l7.78-7.78 2.81-2.81c.8-.78.8-2.07 0-2.86zM5.41 20L4 18.59l7.72-7.72 1.47 1.35L5.41 20z\"/>\n",
              "  </svg>\n",
              "      </button>\n",
              "      \n",
              "  <style>\n",
              "    .colab-df-container {\n",
              "      display:flex;\n",
              "      flex-wrap:wrap;\n",
              "      gap: 12px;\n",
              "    }\n",
              "\n",
              "    .colab-df-convert {\n",
              "      background-color: #E8F0FE;\n",
              "      border: none;\n",
              "      border-radius: 50%;\n",
              "      cursor: pointer;\n",
              "      display: none;\n",
              "      fill: #1967D2;\n",
              "      height: 32px;\n",
              "      padding: 0 0 0 0;\n",
              "      width: 32px;\n",
              "    }\n",
              "\n",
              "    .colab-df-convert:hover {\n",
              "      background-color: #E2EBFA;\n",
              "      box-shadow: 0px 1px 2px rgba(60, 64, 67, 0.3), 0px 1px 3px 1px rgba(60, 64, 67, 0.15);\n",
              "      fill: #174EA6;\n",
              "    }\n",
              "\n",
              "    [theme=dark] .colab-df-convert {\n",
              "      background-color: #3B4455;\n",
              "      fill: #D2E3FC;\n",
              "    }\n",
              "\n",
              "    [theme=dark] .colab-df-convert:hover {\n",
              "      background-color: #434B5C;\n",
              "      box-shadow: 0px 1px 3px 1px rgba(0, 0, 0, 0.15);\n",
              "      filter: drop-shadow(0px 1px 2px rgba(0, 0, 0, 0.3));\n",
              "      fill: #FFFFFF;\n",
              "    }\n",
              "  </style>\n",
              "\n",
              "      <script>\n",
              "        const buttonEl =\n",
              "          document.querySelector('#df-ac4d592b-24ee-4c44-9b9d-83798a3a56a5 button.colab-df-convert');\n",
              "        buttonEl.style.display =\n",
              "          google.colab.kernel.accessAllowed ? 'block' : 'none';\n",
              "\n",
              "        async function convertToInteractive(key) {\n",
              "          const element = document.querySelector('#df-ac4d592b-24ee-4c44-9b9d-83798a3a56a5');\n",
              "          const dataTable =\n",
              "            await google.colab.kernel.invokeFunction('convertToInteractive',\n",
              "                                                     [key], {});\n",
              "          if (!dataTable) return;\n",
              "\n",
              "          const docLinkHtml = 'Like what you see? Visit the ' +\n",
              "            '<a target=\"_blank\" href=https://colab.research.google.com/notebooks/data_table.ipynb>data table notebook</a>'\n",
              "            + ' to learn more about interactive tables.';\n",
              "          element.innerHTML = '';\n",
              "          dataTable['output_type'] = 'display_data';\n",
              "          await google.colab.output.renderOutput(dataTable, element);\n",
              "          const docLink = document.createElement('div');\n",
              "          docLink.innerHTML = docLinkHtml;\n",
              "          element.appendChild(docLink);\n",
              "        }\n",
              "      </script>\n",
              "    </div>\n",
              "  </div>\n",
              "  "
            ],
            "text/plain": [
              "     Hour Day of Week  pass_count  no_of_trips  Total_fair\n",
              "0       0         Fri         6.0           36  491.600000\n",
              "1       0         Mon         5.0           15  236.460277\n",
              "2       0         Sat         6.0           51  499.000000\n",
              "3       0         Sun         6.0           52  508.630000\n",
              "4       0         Thu         5.0           28  337.100000\n",
              "..    ...         ...         ...          ...         ...\n",
              "163    23         Sat         6.0           34  358.300000\n",
              "164    23         Sun         3.0           27  325.330000\n",
              "165    23         Thu         6.0           32  288.700000\n",
              "166    23         Tue         5.0           35  340.170000\n",
              "167    23         Wed         5.0           38  385.800000\n",
              "\n",
              "[168 rows x 5 columns]"
            ]
          },
          "metadata": {},
          "execution_count": 202
        }
      ]
    },
    {
      "cell_type": "code",
      "source": [
        "sns.heatmap(hour_wise_trip.corr(),annot=True)\n",
        "\n",
        "#here we can say that Hour and Fair has strong Co relation"
      ],
      "metadata": {
        "colab": {
          "base_uri": "https://localhost:8080/",
          "height": 287
        },
        "id": "b0PDm8DqBPFt",
        "outputId": "53cd414e-2ebe-4781-cfd7-5b2609d51ce8"
      },
      "execution_count": null,
      "outputs": [
        {
          "output_type": "execute_result",
          "data": {
            "text/plain": [
              "<matplotlib.axes._subplots.AxesSubplot at 0x7f88c321bf90>"
            ]
          },
          "metadata": {},
          "execution_count": 205
        },
        {
          "output_type": "display_data",
          "data": {
            "image/png": "[encoded data removed]",
            "text/plain": [
              "<Figure size 432x288 with 2 Axes>"
            ]
          },
          "metadata": {
            "needs_background": "light"
          }
        }
      ]
    },
    {
      "cell_type": "code",
      "source": [
        "plt.figure(figsize=[20,5])\n",
        "\n",
        "sns.distplot(df['fare_amount'] ,hist=True)\n",
        "#Skewd "
      ],
      "metadata": {
        "colab": {
          "base_uri": "https://localhost:8080/",
          "height": 414
        },
        "id": "xz2LSu5xDKu8",
        "outputId": "d2cc10b6-413e-4176-bf88-cba8284b1e48"
      },
      "execution_count": null,
      "outputs": [
        {
          "output_type": "stream",
          "name": "stderr",
          "text": [
            "/usr/local/lib/python3.7/dist-packages/seaborn/distributions.py:2619: FutureWarning:\n",
            "\n",
            "`distplot` is a deprecated function and will be removed in a future version. Please adapt your code to use either `displot` (a figure-level function with similar flexibility) or `histplot` (an axes-level function for histograms).\n",
            "\n"
          ]
        },
        {
          "output_type": "execute_result",
          "data": {
            "text/plain": [
              "<matplotlib.axes._subplots.AxesSubplot at 0x7f88bcfe6710>"
            ]
          },
          "metadata": {},
          "execution_count": 221
        },
        {
          "output_type": "display_data",
          "data": {
            "image/png": "[encoded data removed]",
            "text/plain": [
              "<Figure size 1440x360 with 1 Axes>"
            ]
          },
          "metadata": {
            "needs_background": "light"
          }
        }
      ]
    },
    {
      "cell_type": "code",
      "source": [
        "plt.figure(figsize=[8,4])\n",
        "df_4 = pd.DataFrame(df['fare_amount'].astype(float).round(0))\n",
        "\n",
        "ax = sns.distplot(a=df_4['fare_amount'],hist=True,kde=False,rug=False)\n",
        "ax.set_xlim(0, 80)"
      ],
      "metadata": {
        "colab": {
          "base_uri": "https://localhost:8080/",
          "height": 386
        },
        "id": "hgvALHveFZhF",
        "outputId": "6958db52-bb34-4a4b-a036-dcaeace95581"
      },
      "execution_count": null,
      "outputs": [
        {
          "output_type": "stream",
          "name": "stderr",
          "text": [
            "/usr/local/lib/python3.7/dist-packages/seaborn/distributions.py:2619: FutureWarning:\n",
            "\n",
            "`distplot` is a deprecated function and will be removed in a future version. Please adapt your code to use either `displot` (a figure-level function with similar flexibility) or `histplot` (an axes-level function for histograms).\n",
            "\n"
          ]
        },
        {
          "output_type": "execute_result",
          "data": {
            "text/plain": [
              "(0.0, 80.0)"
            ]
          },
          "metadata": {},
          "execution_count": 217
        },
        {
          "output_type": "display_data",
          "data": {
            "image/png": "[encoded data removed]",
            "text/plain": [
              "<Figure size 576x288 with 1 Axes>"
            ]
          },
          "metadata": {
            "needs_background": "light"
          }
        }
      ]
    },
    {
      "cell_type": "code",
      "source": [
        ""
      ],
      "metadata": {
        "id": "J6Z8QjQFGRkv"
      },
      "execution_count": null,
      "outputs": []
    }
  ]
}